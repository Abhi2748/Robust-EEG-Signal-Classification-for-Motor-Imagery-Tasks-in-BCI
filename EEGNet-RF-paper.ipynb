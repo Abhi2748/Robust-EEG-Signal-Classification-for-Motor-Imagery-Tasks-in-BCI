{
 "cells": [
  {
   "cell_type": "code",
   "execution_count": 65,
   "metadata": {
    "id": "Ls1_QPAmusUZ"
   },
   "outputs": [],
   "source": [
    "## analyse the data\n",
    "import mne\n",
    "import numpy as np\n",
    "import matplotlib.pyplot as plt\n",
    "import glob\n",
    "\n",
    "from sklearn.metrics import classification_report\n",
    "import numpy as np\n",
    "from sklearn.metrics import confusion_matrix\n",
    "import seaborn as sns"
   ]
  },
  {
   "cell_type": "code",
   "execution_count": 66,
   "metadata": {
    "colab": {
     "base_uri": "https://localhost:8080/",
     "height": 493
    },
    "id": "rNNd3ANCyKoF",
    "outputId": "d7fd2aeb-5d83-4cd3-edcc-20d52f330716",
    "scrolled": true
   },
   "outputs": [
    {
     "name": "stdout",
     "output_type": "stream",
     "text": [
      "Extracting EDF parameters from D:\\bci project\\BCI PROJECT-20220624T090242Z-001\\BCI PROJECT\\Notebooks\\BCI 4\\BCICIV_2a_gdf\\A01E.gdf...\n",
      "GDF file detected\n",
      "Setting channel info structure...\n",
      "Could not determine channel type of the following channels, they will be set as EEG:\n",
      "EEG-Fz, EEG, EEG, EEG, EEG, EEG, EEG, EEG-C3, EEG, EEG-Cz, EEG, EEG-C4, EEG, EEG, EEG, EEG, EEG, EEG, EEG, EEG-Pz, EEG, EEG\n",
      "Creating raw.info structure...\n"
     ]
    },
    {
     "name": "stderr",
     "output_type": "stream",
     "text": [
      "c:\\users\\hp\\appdata\\local\\programs\\python\\python39\\lib\\site-packages\\mne\\io\\edf\\edf.py:1155: DeprecationWarning: The binary mode of fromstring is deprecated, as it behaves surprisingly on unicode inputs. Use frombuffer instead\n",
      "  etmode = np.fromstring(etmode, UINT8).tolist()[0]\n",
      "c:\\users\\hp\\appdata\\local\\programs\\python\\python39\\lib\\contextlib.py:124: RuntimeWarning: Channel names are not unique, found duplicates for: {'EEG'}. Applying running numbers for duplicates.\n",
      "  next(self.gen)\n"
     ]
    },
    {
     "data": {
      "text/html": [
       "<table class=\"table table-hover table-striped table-sm table-responsive small\">\n",
       "    <tr>\n",
       "        <th>Measurement date</th>\n",
       "        \n",
       "        <td>January 19, 2005  12:00:00 GMT</td>\n",
       "        \n",
       "    </tr>\n",
       "    <tr>\n",
       "        <th>Experimenter</th>\n",
       "        \n",
       "        <td>Unknown</td>\n",
       "        \n",
       "    </tr>\n",
       "        <th>Participant</th>\n",
       "        \n",
       "        <td>Unknown</td>\n",
       "        \n",
       "    </tr>\n",
       "    <tr>\n",
       "        <th>Digitized points</th>\n",
       "        \n",
       "        <td>Not available</td>\n",
       "        \n",
       "    </tr>\n",
       "    <tr>\n",
       "        <th>Good channels</th>\n",
       "        <td>22 EEG</td>\n",
       "    </tr>\n",
       "    <tr>\n",
       "        <th>Bad channels</th>\n",
       "        <td>None</td>\n",
       "    </tr>\n",
       "    <tr>\n",
       "        <th>EOG channels</th>\n",
       "        <td>Not available</td>\n",
       "    </tr>\n",
       "    <tr>\n",
       "        <th>ECG channels</th>\n",
       "        <td>Not available</td>\n",
       "    \n",
       "    <tr>\n",
       "        <th>Sampling frequency</th>\n",
       "        <td>250.00 Hz</td>\n",
       "    </tr>\n",
       "    \n",
       "    \n",
       "    <tr>\n",
       "        <th>Highpass</th>\n",
       "        <td>0.50 Hz</td>\n",
       "    </tr>\n",
       "    \n",
       "    \n",
       "    <tr>\n",
       "        <th>Lowpass</th>\n",
       "        <td>100.00 Hz</td>\n",
       "    </tr>\n",
       "    \n",
       "    \n",
       "    \n",
       "    <tr>\n",
       "        <th>Filenames</th>\n",
       "        <td>A01E.gdf</td>\n",
       "    </tr>\n",
       "    \n",
       "    <tr>\n",
       "        <th>Duration</th>\n",
       "        <td>00:45:47 (HH:MM:SS)</td>\n",
       "    </tr>\n",
       "</table>"
      ],
      "text/plain": [
       "<RawGDF | A01E.gdf, 22 x 687000 (2748.0 s), ~26 kB, data not loaded>"
      ]
     },
     "execution_count": 66,
     "metadata": {},
     "output_type": "execute_result"
    }
   ],
   "source": [
    "raw=mne.io.read_raw_gdf('BCICIV_2a_gdf/A01E.gdf',\n",
    "                         eog=['EOG-left', 'EOG-central', 'EOG-right'])\n",
    "raw.drop_channels(['EOG-left', 'EOG-central', 'EOG-right'])"
   ]
  },
  {
   "cell_type": "markdown",
   "metadata": {},
   "source": [
    "**From the paper**  \n",
    "'1023': 1 (Rejected trial),   \n",
    " '1072': 2 (Eye movements),  \n",
    " '276':  3 (eyes open)),  \n",
    " '277':  4 (eyes closed),   \n",
    " '32766':5 (Start of a new run),  \n",
    " '768':  6 (Start of a trial),  \n",
    " '769': 7 (class 1),  \n",
    " '770': 8 (class 2),  \n",
    " '771': 9 (class 3),  \n",
    " '772': 10 (class 4)\n",
    "#### event ids are not same for all subjects"
   ]
  },
  {
   "cell_type": "code",
   "execution_count": 67,
   "metadata": {
    "id": "TitH-M4tCYx9"
   },
   "outputs": [],
   "source": [
    "def read_data(path):\n",
    "    raw=mne.io.read_raw_gdf(path,preload=True,\n",
    "                          eog=['EOG-left', 'EOG-central', 'EOG-right'])\n",
    "    raw.drop_channels(['EOG-left', 'EOG-central', 'EOG-right'])\n",
    "    raw.set_eeg_reference()\n",
    "    events, event_id =mne.events_from_annotations(raw)\n",
    "    #events[1]['769'],events[1]['770'],events[1]['771'],events[1]['772']\n",
    "    ann = event_id.keys()\n",
    "    ann = list(map(int,ann))\n",
    "    ids = event_id.values()\n",
    "    ids = list(ids)\n",
    "    unq = np.unique(events[:,-1])\n",
    "    for u in unq:\n",
    "        events[:,-1] = np.where(events[:,-1]== u , ann[u-1],events[:,-1])\n",
    "    epochs = mne.Epochs(raw, events, event_id=[770,771],\n",
    "                        tmin= 0, tmax=4,baseline=(None,4), on_missing ='warn')\n",
    "    labels=epochs.events[:,-1]\n",
    "    features=epochs.get_data()\n",
    "    return features,labels"
   ]
  },
  {
   "cell_type": "code",
   "execution_count": 68,
   "metadata": {},
   "outputs": [
    {
     "data": {
      "text/plain": [
       "['BCICIV_2a_gdf\\\\A01T.gdf',\n",
       " 'BCICIV_2a_gdf\\\\A02T.gdf',\n",
       " 'BCICIV_2a_gdf\\\\A03T.gdf',\n",
       " 'BCICIV_2a_gdf\\\\A04T.gdf',\n",
       " 'BCICIV_2a_gdf\\\\A05T.gdf',\n",
       " 'BCICIV_2a_gdf\\\\A06T.gdf',\n",
       " 'BCICIV_2a_gdf\\\\A07T.gdf',\n",
       " 'BCICIV_2a_gdf\\\\A08T.gdf',\n",
       " 'BCICIV_2a_gdf\\\\A09T.gdf']"
      ]
     },
     "execution_count": 68,
     "metadata": {},
     "output_type": "execute_result"
    }
   ],
   "source": [
    "paths = glob.glob('BCICIV_2a_gdf/*T.gdf')\n",
    "paths"
   ]
  },
  {
   "cell_type": "code",
   "execution_count": 69,
   "metadata": {
    "id": "xW0kIs4CEqlx"
   },
   "outputs": [],
   "source": [
    "%%capture\n",
    "features,labels,groups=[],[],[]\n",
    "for i in paths:\n",
    "    feature,label=read_data(i)\n",
    "    features.append(feature)\n",
    "    labels.append(label)\n",
    "    groups.append([i]*len(label))"
   ]
  },
  {
   "cell_type": "code",
   "execution_count": 70,
   "metadata": {
    "colab": {
     "base_uri": "https://localhost:8080/"
    },
    "id": "lVYPtkG9JW0V",
    "outputId": "4b94fbd7-7331-49c9-b9e9-f027dc3390d8"
   },
   "outputs": [
    {
     "data": {
      "text/plain": [
       "((1296, 22, 1001), (1296,), (1296,))"
      ]
     },
     "execution_count": 70,
     "metadata": {},
     "output_type": "execute_result"
    }
   ],
   "source": [
    "features=np.concatenate(features)\n",
    "labels=np.concatenate(labels)\n",
    "groups=np.concatenate(groups)\n",
    "\n",
    "features.shape,labels.shape,groups.shape"
   ]
  },
  {
   "cell_type": "code",
   "execution_count": 71,
   "metadata": {
    "colab": {
     "base_uri": "https://localhost:8080/"
    },
    "id": "6CXhty7XLz3P",
    "outputId": "89d63f5d-50ad-4c51-a592-e7c006f0c898",
    "scrolled": true
   },
   "outputs": [
    {
     "data": {
      "text/plain": [
       "(array(['BCICIV_2a_gdf\\\\A01T.gdf', 'BCICIV_2a_gdf\\\\A02T.gdf',\n",
       "        'BCICIV_2a_gdf\\\\A03T.gdf', 'BCICIV_2a_gdf\\\\A04T.gdf',\n",
       "        'BCICIV_2a_gdf\\\\A05T.gdf', 'BCICIV_2a_gdf\\\\A06T.gdf',\n",
       "        'BCICIV_2a_gdf\\\\A07T.gdf', 'BCICIV_2a_gdf\\\\A08T.gdf',\n",
       "        'BCICIV_2a_gdf\\\\A09T.gdf'], dtype='<U22'),\n",
       " array([144, 144, 144, 144, 144, 144, 144, 144, 144], dtype=int64))"
      ]
     },
     "execution_count": 71,
     "metadata": {},
     "output_type": "execute_result"
    }
   ],
   "source": [
    "unique, counts = np.unique(groups, return_counts=True)\n",
    "unique, counts"
   ]
  },
  {
   "cell_type": "code",
   "execution_count": 72,
   "metadata": {},
   "outputs": [
    {
     "data": {
      "text/plain": [
       "(array([770, 771]), array([648, 648], dtype=int64))"
      ]
     },
     "execution_count": 72,
     "metadata": {},
     "output_type": "execute_result"
    }
   ],
   "source": [
    "unique, counts = np.unique(labels, return_counts=True)\n",
    "unique, counts\n"
   ]
  },
  {
   "cell_type": "markdown",
   "metadata": {},
   "source": [
    "# Chronet tensor preparation"
   ]
  },
  {
   "cell_type": "code",
   "execution_count": 73,
   "metadata": {},
   "outputs": [],
   "source": [
    "from sklearn.model_selection import GroupKFold,LeaveOneGroupOut\n",
    "from sklearn.preprocessing import StandardScaler\n",
    "gkf=GroupKFold()\n",
    "from sklearn.base import TransformerMixin,BaseEstimator\n",
    "from sklearn.preprocessing import StandardScaler\n",
    "#https://stackoverflow.com/questions/50125844/how-to-standard-scale-a-3d-matrix\n",
    "class StandardScaler3D(BaseEstimator,TransformerMixin):\n",
    "    #batch, sequence, channels\n",
    "    def __init__(self):\n",
    "        self.scaler = StandardScaler()\n",
    "\n",
    "    def fit(self,X,y=None):\n",
    "        self.scaler.fit(X.reshape(-1, X.shape[2]))\n",
    "        return self\n",
    "\n",
    "    def transform(self,X):\n",
    "        return self.scaler.transform(X.reshape( -1,X.shape[2])).reshape(X.shape)"
   ]
  },
  {
   "cell_type": "code",
   "execution_count": 74,
   "metadata": {},
   "outputs": [],
   "source": [
    "from sklearn import preprocessing\n",
    "from sklearn.model_selection import train_test_split"
   ]
  },
  {
   "cell_type": "code",
   "execution_count": 75,
   "metadata": {},
   "outputs": [],
   "source": [
    "lb = preprocessing.LabelBinarizer()\n",
    "\n",
    "#enc_df= enc.fit_transform(dataset['60'])\n",
    "labels =  lb.fit_transform(labels)"
   ]
  },
  {
   "cell_type": "code",
   "execution_count": 76,
   "metadata": {},
   "outputs": [
    {
     "data": {
      "text/plain": [
       "array([0, 1])"
      ]
     },
     "execution_count": 76,
     "metadata": {},
     "output_type": "execute_result"
    }
   ],
   "source": [
    "np.unique(labels)"
   ]
  },
  {
   "cell_type": "code",
   "execution_count": 77,
   "metadata": {},
   "outputs": [],
   "source": [
    "data_array = features\n",
    "label_array = labels\n",
    "group_array = groups\n",
    "data_array=np.moveaxis(data_array,1,2)"
   ]
  },
  {
   "cell_type": "raw",
   "metadata": {},
   "source": [
    "accuracy=[]\n",
    "for train_index, val_index in gkf.split(data_array, label_array, groups=group_array):\n",
    "    train_features,train_labels=data_array[train_index],label_array[train_index]\n",
    "    val_features,val_labels=data_array[val_index],label_array[val_index]\n",
    "    scaler=StandardScaler3D()\n",
    "    train_features=scaler.fit_transform(train_features)\n",
    "    val_features=scaler.transform(val_features)\n",
    "    break"
   ]
  },
  {
   "cell_type": "code",
   "execution_count": 78,
   "metadata": {},
   "outputs": [],
   "source": [
    "scaler=StandardScaler3D()\n",
    "train_features,val_features,train_labels,val_labels = train_test_split(data_array, label_array, test_size=0.25, random_state=6)\n",
    "train_features=scaler.fit_transform(train_features)\n",
    "val_features=scaler.transform(val_features)"
   ]
  },
  {
   "cell_type": "code",
   "execution_count": 79,
   "metadata": {},
   "outputs": [
    {
     "data": {
      "text/plain": [
       "((972, 1001, 22), (972, 1))"
      ]
     },
     "execution_count": 79,
     "metadata": {},
     "output_type": "execute_result"
    }
   ],
   "source": [
    "train_features.shape, train_labels.shape"
   ]
  },
  {
   "cell_type": "code",
   "execution_count": 80,
   "metadata": {},
   "outputs": [],
   "source": [
    "train_features=np.moveaxis(train_features,1,2)\n",
    "val_features=np.moveaxis(val_features,1,2)"
   ]
  },
  {
   "cell_type": "code",
   "execution_count": 81,
   "metadata": {},
   "outputs": [
    {
     "data": {
      "text/plain": [
       "((972, 22, 1001), (972, 1))"
      ]
     },
     "execution_count": 81,
     "metadata": {},
     "output_type": "execute_result"
    }
   ],
   "source": [
    "train_features.shape, train_labels.shape"
   ]
  },
  {
   "cell_type": "markdown",
   "metadata": {},
   "source": [
    "# EegNet"
   ]
  },
  {
   "cell_type": "code",
   "execution_count": 82,
   "metadata": {},
   "outputs": [],
   "source": [
    "from tensorflow.keras.models import Model\n",
    "from tensorflow.keras.layers import Dense, Activation, Permute, Dropout\n",
    "from tensorflow.keras.layers import Conv2D, MaxPooling2D, AveragePooling2D\n",
    "from tensorflow.keras.layers import SeparableConv2D, DepthwiseConv2D\n",
    "from tensorflow.keras.layers import BatchNormalization\n",
    "from tensorflow.keras.layers import SpatialDropout2D\n",
    "from tensorflow.keras.regularizers import l1_l2\n",
    "from tensorflow.keras.layers import Input, Flatten\n",
    "from tensorflow.keras.constraints import max_norm\n",
    "from tensorflow.keras import backend as K\n",
    "import tensorflow as tf"
   ]
  },
  {
   "cell_type": "code",
   "execution_count": 83,
   "metadata": {},
   "outputs": [],
   "source": [
    "def EEGNet(nb_classes, Chans = 64, Samples = 128, \n",
    "             dropoutRate = 0.5, kernLength = 64, F1 = 8, \n",
    "             D = 2, F2 = 16, norm_rate = 0.25, dropoutType = 'Dropout'):\n",
    "    \"\"\" Keras Implementation of EEGNet\n",
    "    http://iopscience.iop.org/article/10.1088/1741-2552/aace8c/meta\n",
    "\n",
    "    Note that this implements the newest version of EEGNet and NOT the earlier\n",
    "    version (version v1 and v2 on arxiv). We strongly recommend using this\n",
    "    architecture as it performs much better and has nicer properties than\n",
    "    our earlier version. For example:\n",
    "        \n",
    "        1. Depthwise Convolutions to learn spatial filters within a \n",
    "        temporal convolution. The use of the depth_multiplier option maps \n",
    "        exactly to the number of spatial filters learned within a temporal\n",
    "        filter. This matches the setup of algorithms like FBCSP which learn \n",
    "        spatial filters within each filter in a filter-bank. This also limits \n",
    "        the number of free parameters to fit when compared to a fully-connected\n",
    "        convolution. \n",
    "        \n",
    "        2. Separable Convolutions to learn how to optimally combine spatial\n",
    "        filters across temporal bands. Separable Convolutions are Depthwise\n",
    "        Convolutions followed by (1x1) Pointwise Convolutions. \n",
    "        \n",
    "    \n",
    "    While the original paper used Dropout, we found that SpatialDropout2D \n",
    "    sometimes produced slightly better results for classification of ERP \n",
    "    signals. However, SpatialDropout2D significantly reduced performance \n",
    "    on the Oscillatory dataset (SMR, BCI-IV Dataset 2A). We recommend using\n",
    "    the default Dropout in most cases.\n",
    "        \n",
    "    Assumes the input signal is sampled at 128Hz. If you want to use this model\n",
    "    for any other sampling rate you will need to modify the lengths of temporal\n",
    "    kernels and average pooling size in blocks 1 and 2 as needed (double the \n",
    "    kernel lengths for double the sampling rate, etc). Note that we haven't \n",
    "    tested the model performance with this rule so this may not work well. \n",
    "    \n",
    "    The model with default parameters gives the EEGNet-8,2 model as discussed\n",
    "    in the paper. This model should do pretty well in general, although it is\n",
    "\tadvised to do some model searching to get optimal performance on your\n",
    "\tparticular dataset.\n",
    "\n",
    "    We set F2 = F1 * D (number of input filters = number of output filters) for\n",
    "    the SeparableConv2D layer. We haven't extensively tested other values of this\n",
    "    parameter (say, F2 < F1 * D for compressed learning, and F2 > F1 * D for\n",
    "    overcomplete). We believe the main parameters to focus on are F1 and D. \n",
    "\n",
    "    Inputs:\n",
    "        \n",
    "      nb_classes      : int, number of classes to classify\n",
    "      Chans, Samples  : number of channels and time points in the EEG data\n",
    "      dropoutRate     : dropout fraction\n",
    "      kernLength      : length of temporal convolution in first layer. We found\n",
    "                        that setting this to be half the sampling rate worked\n",
    "                        well in practice. For the SMR dataset in particular\n",
    "                        since the data was high-passed at 4Hz we used a kernel\n",
    "                        length of 32.     \n",
    "      F1, F2          : number of temporal filters (F1) and number of pointwise\n",
    "                        filters (F2) to learn. Default: F1 = 8, F2 = F1 * D. \n",
    "      D               : number of spatial filters to learn within each temporal\n",
    "                        convolution. Default: D = 2\n",
    "      dropoutType     : Either SpatialDropout2D or Dropout, passed as a string.\n",
    "\n",
    "    \"\"\"\n",
    "    \n",
    "    if dropoutType == 'SpatialDropout2D':\n",
    "        dropoutType = SpatialDropout2D\n",
    "    elif dropoutType == 'Dropout':\n",
    "        dropoutType = Dropout\n",
    "    else:\n",
    "        raise ValueError('dropoutType must be one of SpatialDropout2D '\n",
    "                         'or Dropout, passed as a string.')\n",
    "    \n",
    "    input1   = Input(shape = (Chans, Samples, 1))\n",
    "\n",
    "    ##################################################################\n",
    "    block1       = Conv2D(F1, (1, kernLength), padding = 'same',\n",
    "                                   input_shape = (Chans, Samples, 1),\n",
    "                                   use_bias = False)(input1)\n",
    "    block1       = BatchNormalization()(block1)\n",
    "    block1       = DepthwiseConv2D((Chans, 1), use_bias = False, \n",
    "                                   depth_multiplier = D,\n",
    "                                   depthwise_constraint = max_norm(1.))(block1)\n",
    "    block1       = BatchNormalization()(block1)\n",
    "    block1       = Activation('elu')(block1)\n",
    "    block1       = AveragePooling2D((1, 4))(block1)\n",
    "    block1       = dropoutType(dropoutRate)(block1)\n",
    "    \n",
    "    block2       = SeparableConv2D(F2, (1, 16),\n",
    "                                   use_bias = False, padding = 'same')(block1)\n",
    "    block2       = BatchNormalization()(block2)\n",
    "    block2       = Activation('elu')(block2)\n",
    "    block2       = AveragePooling2D((1, 8))(block2)\n",
    "    block2       = dropoutType(dropoutRate)(block2)\n",
    "        \n",
    "    flatten      = Flatten(name = 'flatten')(block2)\n",
    "    \n",
    "    dense        = Dense(nb_classes, name = 'dense', \n",
    "                         kernel_constraint = max_norm(norm_rate))(flatten)\n",
    "    softmax      = Activation('sigmoid', name = 'softmax')(dense)\n",
    "    \n",
    "    return Model(inputs=input1, outputs=softmax)\n",
    "\n"
   ]
  },
  {
   "cell_type": "code",
   "execution_count": 84,
   "metadata": {
    "scrolled": true
   },
   "outputs": [
    {
     "name": "stdout",
     "output_type": "stream",
     "text": [
      "Model: \"model_2\"\n",
      "_________________________________________________________________\n",
      " Layer (type)                Output Shape              Param #   \n",
      "=================================================================\n",
      " input_3 (InputLayer)        [(None, 22, 1001, 1)]     0         \n",
      "                                                                 \n",
      " conv2d_2 (Conv2D)           (None, 22, 1001, 8)       512       \n",
      "                                                                 \n",
      " batch_normalization_6 (Batc  (None, 22, 1001, 8)      32        \n",
      " hNormalization)                                                 \n",
      "                                                                 \n",
      " depthwise_conv2d_2 (Depthwi  (None, 1, 1001, 16)      352       \n",
      " seConv2D)                                                       \n",
      "                                                                 \n",
      " batch_normalization_7 (Batc  (None, 1, 1001, 16)      64        \n",
      " hNormalization)                                                 \n",
      "                                                                 \n",
      " activation_4 (Activation)   (None, 1, 1001, 16)       0         \n",
      "                                                                 \n",
      " average_pooling2d_4 (Averag  (None, 1, 250, 16)       0         \n",
      " ePooling2D)                                                     \n",
      "                                                                 \n",
      " dropout_4 (Dropout)         (None, 1, 250, 16)        0         \n",
      "                                                                 \n",
      " separable_conv2d_2 (Separab  (None, 1, 250, 16)       512       \n",
      " leConv2D)                                                       \n",
      "                                                                 \n",
      " batch_normalization_8 (Batc  (None, 1, 250, 16)       64        \n",
      " hNormalization)                                                 \n",
      "                                                                 \n",
      " activation_5 (Activation)   (None, 1, 250, 16)        0         \n",
      "                                                                 \n",
      " average_pooling2d_5 (Averag  (None, 1, 31, 16)        0         \n",
      " ePooling2D)                                                     \n",
      "                                                                 \n",
      " dropout_5 (Dropout)         (None, 1, 31, 16)         0         \n",
      "                                                                 \n",
      " flatten (Flatten)           (None, 496)               0         \n",
      "                                                                 \n",
      " dense (Dense)               (None, 1)                 497       \n",
      "                                                                 \n",
      " softmax (Activation)        (None, 1)                 0         \n",
      "                                                                 \n",
      "=================================================================\n",
      "Total params: 2,033\n",
      "Trainable params: 1,953\n",
      "Non-trainable params: 80\n",
      "_________________________________________________________________\n"
     ]
    }
   ],
   "source": [
    "eegnet = EEGNet(1, features.shape[1],features.shape[2],dropoutRate = 0.2)\n",
    "eegnet.summary()"
   ]
  },
  {
   "cell_type": "code",
   "execution_count": 85,
   "metadata": {},
   "outputs": [],
   "source": [
    "eegnet.compile(optimizer=tf.keras.optimizers.Adam(learning_rate=0.005), loss = 'binary_crossentropy',metrics=['accuracy'])"
   ]
  },
  {
   "cell_type": "code",
   "execution_count": 86,
   "metadata": {},
   "outputs": [
    {
     "name": "stdout",
     "output_type": "stream",
     "text": [
      "Epoch 1/50\n",
      "31/31 [==============================] - 11s 309ms/step - loss: 0.6476 - accuracy: 0.6121 - val_loss: 0.6217 - val_accuracy: 0.7469\n",
      "Epoch 2/50\n",
      "31/31 [==============================] - 10s 312ms/step - loss: 0.5584 - accuracy: 0.7325 - val_loss: 0.5654 - val_accuracy: 0.7253\n",
      "Epoch 3/50\n",
      "31/31 [==============================] - 10s 315ms/step - loss: 0.5333 - accuracy: 0.7469 - val_loss: 0.5479 - val_accuracy: 0.7500\n",
      "Epoch 4/50\n",
      "31/31 [==============================] - 9s 304ms/step - loss: 0.5183 - accuracy: 0.7685 - val_loss: 0.5081 - val_accuracy: 0.8117\n",
      "Epoch 5/50\n",
      "31/31 [==============================] - 9s 287ms/step - loss: 0.4960 - accuracy: 0.7798 - val_loss: 0.4846 - val_accuracy: 0.8148\n",
      "Epoch 6/50\n",
      "31/31 [==============================] - 10s 321ms/step - loss: 0.4737 - accuracy: 0.8004 - val_loss: 0.4716 - val_accuracy: 0.7994\n",
      "Epoch 7/50\n",
      "31/31 [==============================] - 10s 331ms/step - loss: 0.4588 - accuracy: 0.7973 - val_loss: 0.4476 - val_accuracy: 0.8086\n",
      "Epoch 8/50\n",
      "31/31 [==============================] - 10s 319ms/step - loss: 0.4498 - accuracy: 0.8045 - val_loss: 0.5219 - val_accuracy: 0.7438\n",
      "Epoch 9/50\n",
      "31/31 [==============================] - 9s 305ms/step - loss: 0.4421 - accuracy: 0.8158 - val_loss: 0.5164 - val_accuracy: 0.7315\n",
      "Epoch 10/50\n",
      "31/31 [==============================] - 9s 283ms/step - loss: 0.4417 - accuracy: 0.8035 - val_loss: 0.4403 - val_accuracy: 0.7963\n",
      "Epoch 11/50\n",
      "31/31 [==============================] - 11s 348ms/step - loss: 0.3996 - accuracy: 0.8364 - val_loss: 0.3906 - val_accuracy: 0.8333\n",
      "Epoch 12/50\n",
      "31/31 [==============================] - 11s 345ms/step - loss: 0.4016 - accuracy: 0.8292 - val_loss: 0.3809 - val_accuracy: 0.8364\n",
      "Epoch 13/50\n",
      "31/31 [==============================] - 10s 314ms/step - loss: 0.3951 - accuracy: 0.8333 - val_loss: 0.3768 - val_accuracy: 0.8426\n",
      "Epoch 14/50\n",
      "31/31 [==============================] - 10s 339ms/step - loss: 0.3669 - accuracy: 0.8539 - val_loss: 0.3980 - val_accuracy: 0.8210\n",
      "Epoch 15/50\n",
      "31/31 [==============================] - 10s 334ms/step - loss: 0.3760 - accuracy: 0.8333 - val_loss: 0.3791 - val_accuracy: 0.8426\n",
      "Epoch 16/50\n",
      "31/31 [==============================] - 10s 338ms/step - loss: 0.3648 - accuracy: 0.8621 - val_loss: 0.3728 - val_accuracy: 0.8673\n",
      "Epoch 17/50\n",
      "31/31 [==============================] - 10s 334ms/step - loss: 0.3460 - accuracy: 0.8632 - val_loss: 0.3436 - val_accuracy: 0.8673\n",
      "Epoch 18/50\n",
      "31/31 [==============================] - 10s 337ms/step - loss: 0.3528 - accuracy: 0.8549 - val_loss: 0.3766 - val_accuracy: 0.8025\n",
      "Epoch 19/50\n",
      "31/31 [==============================] - 11s 340ms/step - loss: 0.3600 - accuracy: 0.8385 - val_loss: 0.3969 - val_accuracy: 0.8364\n",
      "Epoch 20/50\n",
      "31/31 [==============================] - 10s 338ms/step - loss: 0.3419 - accuracy: 0.8663 - val_loss: 0.3603 - val_accuracy: 0.8395\n",
      "Epoch 21/50\n",
      "31/31 [==============================] - 10s 320ms/step - loss: 0.3456 - accuracy: 0.8519 - val_loss: 0.3986 - val_accuracy: 0.8395\n",
      "Epoch 22/50\n",
      "31/31 [==============================] - 10s 312ms/step - loss: 0.3381 - accuracy: 0.8539 - val_loss: 0.3822 - val_accuracy: 0.8426\n",
      "Epoch 23/50\n",
      "31/31 [==============================] - 10s 323ms/step - loss: 0.3241 - accuracy: 0.8663 - val_loss: 0.3467 - val_accuracy: 0.8580\n",
      "Epoch 24/50\n",
      "31/31 [==============================] - 9s 305ms/step - loss: 0.3180 - accuracy: 0.8683 - val_loss: 0.3769 - val_accuracy: 0.8179\n",
      "Epoch 25/50\n",
      "31/31 [==============================] - 11s 350ms/step - loss: 0.3318 - accuracy: 0.8683 - val_loss: 0.3814 - val_accuracy: 0.8272\n",
      "Epoch 26/50\n",
      "31/31 [==============================] - 10s 336ms/step - loss: 0.3206 - accuracy: 0.8611 - val_loss: 0.3862 - val_accuracy: 0.7994\n",
      "Epoch 27/50\n",
      "31/31 [==============================] - 10s 329ms/step - loss: 0.3113 - accuracy: 0.8755 - val_loss: 0.3405 - val_accuracy: 0.8673\n",
      "Epoch 28/50\n",
      "31/31 [==============================] - 11s 342ms/step - loss: 0.3089 - accuracy: 0.8796 - val_loss: 0.3986 - val_accuracy: 0.8117\n",
      "Epoch 29/50\n",
      "31/31 [==============================] - 10s 309ms/step - loss: 0.2961 - accuracy: 0.8776 - val_loss: 0.4853 - val_accuracy: 0.8117\n",
      "Epoch 30/50\n",
      "31/31 [==============================] - 9s 298ms/step - loss: 0.3000 - accuracy: 0.8735 - val_loss: 0.3633 - val_accuracy: 0.8580\n",
      "Epoch 31/50\n",
      "31/31 [==============================] - 10s 340ms/step - loss: 0.2897 - accuracy: 0.8951 - val_loss: 0.3257 - val_accuracy: 0.8765\n",
      "Epoch 32/50\n",
      "31/31 [==============================] - 10s 330ms/step - loss: 0.3162 - accuracy: 0.8663 - val_loss: 0.3153 - val_accuracy: 0.8765\n",
      "Epoch 33/50\n",
      "31/31 [==============================] - 10s 325ms/step - loss: 0.2819 - accuracy: 0.8817 - val_loss: 0.4591 - val_accuracy: 0.7901\n",
      "Epoch 34/50\n",
      "31/31 [==============================] - 10s 336ms/step - loss: 0.3024 - accuracy: 0.8724 - val_loss: 0.3202 - val_accuracy: 0.8580\n",
      "Epoch 35/50\n",
      "31/31 [==============================] - 10s 326ms/step - loss: 0.2758 - accuracy: 0.8909 - val_loss: 0.4178 - val_accuracy: 0.8025\n",
      "Epoch 36/50\n",
      "31/31 [==============================] - 10s 324ms/step - loss: 0.2821 - accuracy: 0.8817 - val_loss: 0.4519 - val_accuracy: 0.7716\n",
      "Epoch 37/50\n",
      "31/31 [==============================] - 10s 334ms/step - loss: 0.2700 - accuracy: 0.8951 - val_loss: 0.3692 - val_accuracy: 0.8241\n",
      "Epoch 38/50\n",
      "31/31 [==============================] - 10s 329ms/step - loss: 0.2680 - accuracy: 0.8868 - val_loss: 0.3514 - val_accuracy: 0.8673\n",
      "Epoch 39/50\n",
      "31/31 [==============================] - 10s 330ms/step - loss: 0.2724 - accuracy: 0.8961 - val_loss: 0.4692 - val_accuracy: 0.7870\n",
      "Epoch 40/50\n",
      "31/31 [==============================] - 10s 322ms/step - loss: 0.2991 - accuracy: 0.8776 - val_loss: 0.3833 - val_accuracy: 0.8241\n",
      "Epoch 41/50\n",
      "31/31 [==============================] - 11s 343ms/step - loss: 0.2669 - accuracy: 0.8930 - val_loss: 0.3757 - val_accuracy: 0.8673\n",
      "Epoch 42/50\n",
      "31/31 [==============================] - 11s 355ms/step - loss: 0.2704 - accuracy: 0.8951 - val_loss: 0.3342 - val_accuracy: 0.8642\n",
      "Epoch 43/50\n",
      "31/31 [==============================] - 10s 325ms/step - loss: 0.2757 - accuracy: 0.8868 - val_loss: 0.3491 - val_accuracy: 0.8642\n",
      "Epoch 44/50\n",
      "31/31 [==============================] - 10s 325ms/step - loss: 0.2631 - accuracy: 0.8981 - val_loss: 0.3516 - val_accuracy: 0.8549\n",
      "Epoch 45/50\n",
      "31/31 [==============================] - 10s 336ms/step - loss: 0.2682 - accuracy: 0.8899 - val_loss: 0.3734 - val_accuracy: 0.8488\n",
      "Epoch 46/50\n",
      "31/31 [==============================] - 10s 329ms/step - loss: 0.2865 - accuracy: 0.8899 - val_loss: 0.5029 - val_accuracy: 0.7778\n",
      "Epoch 47/50\n",
      "31/31 [==============================] - 10s 335ms/step - loss: 0.2635 - accuracy: 0.8848 - val_loss: 0.3623 - val_accuracy: 0.8519\n",
      "Epoch 48/50\n",
      "31/31 [==============================] - 11s 349ms/step - loss: 0.2625 - accuracy: 0.8868 - val_loss: 0.3531 - val_accuracy: 0.8519\n",
      "Epoch 49/50\n",
      "31/31 [==============================] - 10s 324ms/step - loss: 0.2534 - accuracy: 0.8868 - val_loss: 0.3952 - val_accuracy: 0.8364\n",
      "Epoch 50/50\n",
      "31/31 [==============================] - 10s 332ms/step - loss: 0.2603 - accuracy: 0.8930 - val_loss: 0.3610 - val_accuracy: 0.8519\n"
     ]
    }
   ],
   "source": [
    "eegnet_history = eegnet.fit(train_features, train_labels,epochs=50,batch_size=32,validation_data=(val_features, val_labels))"
   ]
  },
  {
   "cell_type": "code",
   "execution_count": 87,
   "metadata": {
    "scrolled": true
   },
   "outputs": [
    {
     "data": {
      "text/plain": [
       "[<matplotlib.lines.Line2D at 0x1e30a99e8e0>]"
      ]
     },
     "execution_count": 87,
     "metadata": {},
     "output_type": "execute_result"
    },
    {
     "data": {
      "image/png": "[encoded data removed]",
      "text/plain": [
       "<Figure size 432x288 with 1 Axes>"
      ]
     },
     "metadata": {
      "needs_background": "light"
     },
     "output_type": "display_data"
    }
   ],
   "source": [
    "plt.plot(eegnet_history.history[\"accuracy\"])\n",
    "plt.plot(eegnet_history.history[\"val_accuracy\"])"
   ]
  },
  {
   "cell_type": "code",
   "execution_count": 88,
   "metadata": {
    "scrolled": true
   },
   "outputs": [
    {
     "data": {
      "text/plain": [
       "[<matplotlib.lines.Line2D at 0x1e30a9f97f0>]"
      ]
     },
     "execution_count": 88,
     "metadata": {},
     "output_type": "execute_result"
    },
    {
     "data": {
      "image/png": "[encoded data removed]",
      "text/plain": [
       "<Figure size 432x288 with 1 Axes>"
      ]
     },
     "metadata": {
      "needs_background": "light"
     },
     "output_type": "display_data"
    }
   ],
   "source": [
    "plt.plot(eegnet_history.history[\"loss\"])\n",
    "plt.plot(eegnet_history.history[\"val_loss\"])"
   ]
  },
  {
   "cell_type": "markdown",
   "metadata": {},
   "source": [
    "# Binary Class Class accuaracies"
   ]
  },
  {
   "cell_type": "code",
   "execution_count": 89,
   "metadata": {},
   "outputs": [],
   "source": [
    "model = eegnet"
   ]
  },
  {
   "cell_type": "code",
   "execution_count": 90,
   "metadata": {},
   "outputs": [
    {
     "name": "stdout",
     "output_type": "stream",
     "text": [
      "WARNING:tensorflow:5 out of the last 11 calls to <function Model.make_predict_function.<locals>.predict_function at 0x000001E30AA2C820> triggered tf.function retracing. Tracing is expensive and the excessive number of tracings could be due to (1) creating @tf.function repeatedly in a loop, (2) passing tensors with different shapes, (3) passing Python objects instead of tensors. For (1), please define your @tf.function outside of the loop. For (2), @tf.function has reduce_retracing=True option that can avoid unnecessary retracing. For (3), please refer to https://www.tensorflow.org/guide/function#controlling_retracing and https://www.tensorflow.org/api_docs/python/tf/function for  more details.\n",
      "              precision    recall  f1-score   support\n",
      "\n",
      "           0       0.98      0.89      0.93       485\n",
      "           1       0.90      0.98      0.94       487\n",
      "\n",
      "    accuracy                           0.93       972\n",
      "   macro avg       0.94      0.93      0.93       972\n",
      "weighted avg       0.94      0.93      0.93       972\n",
      "\n"
     ]
    },
    {
     "data": {
      "text/plain": [
       "<AxesSubplot:>"
      ]
     },
     "execution_count": 90,
     "metadata": {},
     "output_type": "execute_result"
    },
    {
     "data": {
      "image/png": "[encoded data removed]",
      "text/plain": [
       "<Figure size 432x288 with 2 Axes>"
      ]
     },
     "metadata": {
      "needs_background": "light"
     },
     "output_type": "display_data"
    }
   ],
   "source": [
    "# classification report on training set\n",
    "y_p = []\n",
    "pred = model.predict_on_batch(train_features)\n",
    "pred = pred.reshape(pred.shape[0])\n",
    "for l in pred:\n",
    "    if l>0.5:\n",
    "        y_p.append(1)\n",
    "    else:\n",
    "        y_p.append(0)\n",
    "y_t = train_labels.reshape(train_labels.shape[0])\n",
    "print(classification_report(y_t, y_p))\n",
    "cf_matrix = confusion_matrix(y_t, y_p)\n",
    "sns.heatmap(cf_matrix, annot=True)"
   ]
  },
  {
   "cell_type": "code",
   "execution_count": 91,
   "metadata": {
    "scrolled": false
   },
   "outputs": [
    {
     "name": "stdout",
     "output_type": "stream",
     "text": [
      "WARNING:tensorflow:5 out of the last 11 calls to <function Model.make_predict_function.<locals>.predict_function at 0x000001E30AA2C820> triggered tf.function retracing. Tracing is expensive and the excessive number of tracings could be due to (1) creating @tf.function repeatedly in a loop, (2) passing tensors with different shapes, (3) passing Python objects instead of tensors. For (1), please define your @tf.function outside of the loop. For (2), @tf.function has reduce_retracing=True option that can avoid unnecessary retracing. For (3), please refer to https://www.tensorflow.org/guide/function#controlling_retracing and https://www.tensorflow.org/api_docs/python/tf/function for  more details.\n",
      "              precision    recall  f1-score   support\n",
      "\n",
      "           0       0.93      0.76      0.84       163\n",
      "           1       0.80      0.94      0.86       161\n",
      "\n",
      "    accuracy                           0.85       324\n",
      "   macro avg       0.86      0.85      0.85       324\n",
      "weighted avg       0.86      0.85      0.85       324\n",
      "\n"
     ]
    },
    {
     "data": {
      "text/plain": [
       "<AxesSubplot:>"
      ]
     },
     "execution_count": 91,
     "metadata": {},
     "output_type": "execute_result"
    },
    {
     "data": {
      "image/png": "[encoded data removed]",
      "text/plain": [
       "<Figure size 432x288 with 2 Axes>"
      ]
     },
     "metadata": {
      "needs_background": "light"
     },
     "output_type": "display_data"
    }
   ],
   "source": [
    "# classification report on validation set\n",
    "y_p = []\n",
    "pred = model.predict_on_batch(val_features)\n",
    "pred = pred.reshape(pred.shape[0])\n",
    "for l in pred:\n",
    "    if l>0.5:\n",
    "        y_p.append(1)\n",
    "    else:\n",
    "        y_p.append(0)\n",
    "y_t = val_labels.reshape(val_labels.shape[0])\n",
    "print(classification_report(y_t, y_p))\n",
    "cf_matrix = confusion_matrix(y_t, y_p)\n",
    "sns.heatmap(cf_matrix, annot=True)"
   ]
  },
  {
   "cell_type": "markdown",
   "metadata": {},
   "source": [
    "# Multiclass class accuracies"
   ]
  },
  {
   "cell_type": "code",
   "execution_count": 92,
   "metadata": {
    "scrolled": false
   },
   "outputs": [
    {
     "name": "stdout",
     "output_type": "stream",
     "text": [
      "              precision    recall  f1-score   support\n",
      "\n",
      "           0       1.00      1.00      1.00       324\n",
      "\n",
      "    accuracy                           1.00       324\n",
      "   macro avg       1.00      1.00      1.00       324\n",
      "weighted avg       1.00      1.00      1.00       324\n",
      "\n"
     ]
    },
    {
     "data": {
      "text/plain": [
       "<AxesSubplot:>"
      ]
     },
     "execution_count": 92,
     "metadata": {},
     "output_type": "execute_result"
    },
    {
     "data": {
      "image/png": "[encoded data removed]",
      "text/plain": [
       "<Figure size 432x288 with 2 Axes>"
      ]
     },
     "metadata": {
      "needs_background": "light"
     },
     "output_type": "display_data"
    }
   ],
   "source": [
    "y_t = np.argmax(val_labels, axis=1) # Convert one-hot to index\n",
    "pred = model.predict_on_batch(val_features)\n",
    "y_p = np.argmax(pred,axis=1)\n",
    "print(classification_report(y_t, y_p))\n",
    "cf_matrix = confusion_matrix(y_t, y_p)\n",
    "sns.heatmap(cf_matrix, annot=True)"
   ]
  },
  {
   "cell_type": "code",
   "execution_count": 93,
   "metadata": {},
   "outputs": [
    {
     "name": "stdout",
     "output_type": "stream",
     "text": [
      "              precision    recall  f1-score   support\n",
      "\n",
      "           0       1.00      1.00      1.00       972\n",
      "\n",
      "    accuracy                           1.00       972\n",
      "   macro avg       1.00      1.00      1.00       972\n",
      "weighted avg       1.00      1.00      1.00       972\n",
      "\n"
     ]
    },
    {
     "data": {
      "text/plain": [
       "<AxesSubplot:>"
      ]
     },
     "execution_count": 93,
     "metadata": {},
     "output_type": "execute_result"
    },
    {
     "data": {
      "image/png": "[encoded data removed]",
      "text/plain": [
       "<Figure size 432x288 with 2 Axes>"
      ]
     },
     "metadata": {
      "needs_background": "light"
     },
     "output_type": "display_data"
    }
   ],
   "source": [
    "y_t = np.argmax(train_labels, axis=1) # Convert one-hot to index\n",
    "pred = model.predict_on_batch(train_features)\n",
    "y_p = np.argmax(pred,axis=1)\n",
    "print(classification_report(y_t, y_p))\n",
    "cf_matrix = confusion_matrix(y_t, y_p)\n",
    "sns.heatmap(cf_matrix, annot=True)"
   ]
  },
  {
   "cell_type": "code",
   "execution_count": 94,
   "metadata": {},
   "outputs": [],
   "source": [
    "y_p = model.predict_on_batch(val_features)"
   ]
  },
  {
   "cell_type": "code",
   "execution_count": 95,
   "metadata": {},
   "outputs": [
    {
     "data": {
      "text/plain": [
       "161"
      ]
     },
     "execution_count": 95,
     "metadata": {},
     "output_type": "execute_result"
    }
   ],
   "source": [
    "np.count_nonzero(val_labels)"
   ]
  },
  {
   "cell_type": "code",
   "execution_count": 96,
   "metadata": {},
   "outputs": [
    {
     "data": {
      "text/plain": [
       "324"
      ]
     },
     "execution_count": 96,
     "metadata": {},
     "output_type": "execute_result"
    }
   ],
   "source": [
    "len(val_labels)"
   ]
  },
  {
   "cell_type": "code",
   "execution_count": null,
   "metadata": {},
   "outputs": [],
   "source": []
  },
  {
   "cell_type": "code",
   "execution_count": null,
   "metadata": {},
   "outputs": [],
   "source": []
  }
 ],
 "metadata": {
  "colab": {
   "collapsed_sections": [],
   "name": "BCI Competition 2008 – Graz data set A.ipynb",
   "provenance": []
  },
  "kernelspec": {
   "display_name": "Python 3 (ipykernel)",
   "language": "python",
   "name": "python3"
  },
  "language_info": {
   "codemirror_mode": {
    "name": "ipython",
    "version": 3
   },
   "file_extension": ".py",
   "mimetype": "text/x-python",
   "name": "python",
   "nbconvert_exporter": "python",
   "pygments_lexer": "ipython3",
   "version": "3.9.1"
  }
 },
 "nbformat": 4,
 "nbformat_minor": 1
}

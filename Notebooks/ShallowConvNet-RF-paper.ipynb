{
 "cells": [
  {
   "cell_type": "code",
   "execution_count": 46,
   "id": "24547742",
   "metadata": {},
   "outputs": [],
   "source": [
    "## analyse the data\n",
    "import mne\n",
    "import numpy as np\n",
    "import matplotlib.pyplot as plt\n",
    "import glob\n",
    "\n",
    "from sklearn.metrics import classification_report\n",
    "import numpy as np\n",
    "from sklearn.metrics import confusion_matrix\n",
    "import seaborn as sns"
   ]
  },
  {
   "cell_type": "code",
   "execution_count": 47,
   "id": "2a70ac7b",
   "metadata": {},
   "outputs": [
    {
     "name": "stdout",
     "output_type": "stream",
     "text": [
      "Extracting EDF parameters from D:\\bci project\\BCI PROJECT-20220624T090242Z-001\\BCI PROJECT\\Notebooks\\BCI 4\\BCICIV_2a_gdf\\A01E.gdf...\n",
      "GDF file detected\n",
      "Setting channel info structure...\n",
      "Could not determine channel type of the following channels, they will be set as EEG:\n",
      "EEG-Fz, EEG, EEG, EEG, EEG, EEG, EEG, EEG-C3, EEG, EEG-Cz, EEG, EEG-C4, EEG, EEG, EEG, EEG, EEG, EEG, EEG, EEG-Pz, EEG, EEG\n",
      "Creating raw.info structure...\n"
     ]
    },
    {
     "name": "stderr",
     "output_type": "stream",
     "text": [
      "c:\\users\\hp\\appdata\\local\\programs\\python\\python39\\lib\\site-packages\\mne\\io\\edf\\edf.py:1155: DeprecationWarning: The binary mode of fromstring is deprecated, as it behaves surprisingly on unicode inputs. Use frombuffer instead\n",
      "  etmode = np.fromstring(etmode, UINT8).tolist()[0]\n",
      "c:\\users\\hp\\appdata\\local\\programs\\python\\python39\\lib\\contextlib.py:124: RuntimeWarning: Channel names are not unique, found duplicates for: {'EEG'}. Applying running numbers for duplicates.\n",
      "  next(self.gen)\n"
     ]
    },
    {
     "data": {
      "text/html": [
       "<table class=\"table table-hover table-striped table-sm table-responsive small\">\n",
       "    <tr>\n",
       "        <th>Measurement date</th>\n",
       "        \n",
       "        <td>January 19, 2005  12:00:00 GMT</td>\n",
       "        \n",
       "    </tr>\n",
       "    <tr>\n",
       "        <th>Experimenter</th>\n",
       "        \n",
       "        <td>Unknown</td>\n",
       "        \n",
       "    </tr>\n",
       "        <th>Participant</th>\n",
       "        \n",
       "        <td>Unknown</td>\n",
       "        \n",
       "    </tr>\n",
       "    <tr>\n",
       "        <th>Digitized points</th>\n",
       "        \n",
       "        <td>Not available</td>\n",
       "        \n",
       "    </tr>\n",
       "    <tr>\n",
       "        <th>Good channels</th>\n",
       "        <td>22 EEG</td>\n",
       "    </tr>\n",
       "    <tr>\n",
       "        <th>Bad channels</th>\n",
       "        <td>None</td>\n",
       "    </tr>\n",
       "    <tr>\n",
       "        <th>EOG channels</th>\n",
       "        <td>Not available</td>\n",
       "    </tr>\n",
       "    <tr>\n",
       "        <th>ECG channels</th>\n",
       "        <td>Not available</td>\n",
       "    \n",
       "    <tr>\n",
       "        <th>Sampling frequency</th>\n",
       "        <td>250.00 Hz</td>\n",
       "    </tr>\n",
       "    \n",
       "    \n",
       "    <tr>\n",
       "        <th>Highpass</th>\n",
       "        <td>0.50 Hz</td>\n",
       "    </tr>\n",
       "    \n",
       "    \n",
       "    <tr>\n",
       "        <th>Lowpass</th>\n",
       "        <td>100.00 Hz</td>\n",
       "    </tr>\n",
       "    \n",
       "    \n",
       "    \n",
       "    <tr>\n",
       "        <th>Filenames</th>\n",
       "        <td>A01E.gdf</td>\n",
       "    </tr>\n",
       "    \n",
       "    <tr>\n",
       "        <th>Duration</th>\n",
       "        <td>00:45:47 (HH:MM:SS)</td>\n",
       "    </tr>\n",
       "</table>"
      ],
      "text/plain": [
       "<RawGDF | A01E.gdf, 22 x 687000 (2748.0 s), ~26 kB, data not loaded>"
      ]
     },
     "execution_count": 47,
     "metadata": {},
     "output_type": "execute_result"
    }
   ],
   "source": [
    "raw=mne.io.read_raw_gdf('BCICIV_2a_gdf/A01E.gdf',\n",
    "                         eog=['EOG-left', 'EOG-central', 'EOG-right'])\n",
    "raw.drop_channels(['EOG-left', 'EOG-central', 'EOG-right'])"
   ]
  },
  {
   "cell_type": "markdown",
   "id": "0559f65c",
   "metadata": {},
   "source": [
    "From the paper:-\n",
    "'1023': 1 (Rejected trial),\n",
    "'1072': 2 (Eye movements),\n",
    "'276': 3 (eyes open)),\n",
    "'277': 4 (eyes closed),\n",
    "'32766':5 (Start of a new run),\n",
    "'768': 6 (Start of a trial),\n",
    "'769': 7 (class 1),\n",
    "'770': 8 (class 2),\n",
    "'771': 9 (class 3),\n",
    "'772': 10 (class 4)\n",
    "event ids are not same for all subjects"
   ]
  },
  {
   "cell_type": "code",
   "execution_count": 48,
   "id": "12ac649d",
   "metadata": {},
   "outputs": [],
   "source": [
    " def read_data(path):\n",
    "    raw=mne.io.read_raw_gdf(path,preload=True,\n",
    "                          eog=['EOG-left', 'EOG-central', 'EOG-right'])\n",
    "    raw.drop_channels(['EOG-left', 'EOG-central', 'EOG-right'])\n",
    "    raw.set_eeg_reference()\n",
    "    events, event_id =mne.events_from_annotations(raw)\n",
    "    #events[1]['769'],events[1]['770'],events[1]['771'],events[1]['772']\n",
    "    ann = event_id.keys()\n",
    "    ann = list(map(int,ann))\n",
    "    ids = event_id.values()\n",
    "    ids = list(ids)\n",
    "    unq = np.unique(events[:,-1])\n",
    "    for u in unq:\n",
    "        events[:,-1] = np.where(events[:,-1]== u , ann[u-1],events[:,-1])\n",
    "    epochs = mne.Epochs(raw, events, event_id=[770,771],\n",
    "                        tmin= 0, tmax=4,baseline=(None,4), on_missing ='warn')\n",
    "    labels=epochs.events[:,-1]\n",
    "    features=epochs.get_data()\n",
    "    return features,labels"
   ]
  },
  {
   "cell_type": "code",
   "execution_count": 49,
   "id": "6a232589",
   "metadata": {},
   "outputs": [
    {
     "data": {
      "text/plain": [
       "['BCICIV_2a_gdf\\\\A01T.gdf',\n",
       " 'BCICIV_2a_gdf\\\\A02T.gdf',\n",
       " 'BCICIV_2a_gdf\\\\A03T.gdf',\n",
       " 'BCICIV_2a_gdf\\\\A04T.gdf',\n",
       " 'BCICIV_2a_gdf\\\\A05T.gdf',\n",
       " 'BCICIV_2a_gdf\\\\A06T.gdf',\n",
       " 'BCICIV_2a_gdf\\\\A07T.gdf',\n",
       " 'BCICIV_2a_gdf\\\\A08T.gdf',\n",
       " 'BCICIV_2a_gdf\\\\A09T.gdf']"
      ]
     },
     "execution_count": 49,
     "metadata": {},
     "output_type": "execute_result"
    }
   ],
   "source": [
    "paths = glob.glob('BCICIV_2a_gdf/*T.gdf')\n",
    "paths"
   ]
  },
  {
   "cell_type": "code",
   "execution_count": 50,
   "id": "8ea902f5",
   "metadata": {},
   "outputs": [],
   "source": [
    "%%capture\n",
    "features,labels,groups=[],[],[]\n",
    "for i in paths:\n",
    "    feature,label=read_data(i)\n",
    "    features.append(feature)\n",
    "    labels.append(label)\n",
    "    groups.append([i]*len(label))"
   ]
  },
  {
   "cell_type": "code",
   "execution_count": 51,
   "id": "fbdb0188",
   "metadata": {},
   "outputs": [
    {
     "data": {
      "text/plain": [
       "((1296, 22, 1001), (1296,), (1296,))"
      ]
     },
     "execution_count": 51,
     "metadata": {},
     "output_type": "execute_result"
    }
   ],
   "source": [
    "features=np.concatenate(features)\n",
    "labels=np.concatenate(labels)\n",
    "groups=np.concatenate(groups)\n",
    "\n",
    "features.shape,labels.shape,groups.shape"
   ]
  },
  {
   "cell_type": "code",
   "execution_count": 52,
   "id": "f0e9c056",
   "metadata": {},
   "outputs": [
    {
     "data": {
      "text/plain": [
       "(array(['BCICIV_2a_gdf\\\\A01T.gdf', 'BCICIV_2a_gdf\\\\A02T.gdf',\n",
       "        'BCICIV_2a_gdf\\\\A03T.gdf', 'BCICIV_2a_gdf\\\\A04T.gdf',\n",
       "        'BCICIV_2a_gdf\\\\A05T.gdf', 'BCICIV_2a_gdf\\\\A06T.gdf',\n",
       "        'BCICIV_2a_gdf\\\\A07T.gdf', 'BCICIV_2a_gdf\\\\A08T.gdf',\n",
       "        'BCICIV_2a_gdf\\\\A09T.gdf'], dtype='<U22'),\n",
       " array([144, 144, 144, 144, 144, 144, 144, 144, 144], dtype=int64))"
      ]
     },
     "execution_count": 52,
     "metadata": {},
     "output_type": "execute_result"
    }
   ],
   "source": [
    "unique, counts = np.unique(groups, return_counts=True)\n",
    "unique, counts"
   ]
  },
  {
   "cell_type": "markdown",
   "id": "f9b1d69f",
   "metadata": {},
   "source": [
    "# Chronet tensor preparation"
   ]
  },
  {
   "cell_type": "code",
   "execution_count": 53,
   "id": "0d7e2f61",
   "metadata": {},
   "outputs": [],
   "source": [
    "from sklearn.model_selection import GroupKFold,LeaveOneGroupOut\n",
    "from sklearn.preprocessing import StandardScaler\n",
    "gkf=GroupKFold()\n",
    "from sklearn.base import TransformerMixin,BaseEstimator\n",
    "from sklearn.preprocessing import StandardScaler\n",
    "#https://stackoverflow.com/questions/50125844/how-to-standard-scale-a-3d-matrix\n",
    "class StandardScaler3D(BaseEstimator,TransformerMixin):\n",
    "    #batch, sequence, channels\n",
    "    def __init__(self):\n",
    "        self.scaler = StandardScaler()\n",
    "\n",
    "    def fit(self,X,y=None):\n",
    "        self.scaler.fit(X.reshape(-1, X.shape[2]))\n",
    "        return self\n",
    "\n",
    "    def transform(self,X):\n",
    "        return self.scaler.transform(X.reshape( -1,X.shape[2])).reshape(X.shape)"
   ]
  },
  {
   "cell_type": "code",
   "execution_count": 54,
   "id": "70b620dc",
   "metadata": {},
   "outputs": [],
   "source": [
    "from sklearn import preprocessing\n",
    "from sklearn.model_selection import train_test_split"
   ]
  },
  {
   "cell_type": "code",
   "execution_count": 55,
   "id": "f60ad0a6",
   "metadata": {},
   "outputs": [],
   "source": [
    "lb = preprocessing.LabelBinarizer()\n",
    "\n",
    "#enc_df= enc.fit_transform(dataset['60'])\n",
    "labels =  lb.fit_transform(labels)"
   ]
  },
  {
   "cell_type": "code",
   "execution_count": 56,
   "id": "d68029c0",
   "metadata": {},
   "outputs": [
    {
     "data": {
      "text/plain": [
       "array([0, 1])"
      ]
     },
     "execution_count": 56,
     "metadata": {},
     "output_type": "execute_result"
    }
   ],
   "source": [
    "np.unique(labels)"
   ]
  },
  {
   "cell_type": "code",
   "execution_count": 57,
   "id": "224e7fad",
   "metadata": {},
   "outputs": [],
   "source": [
    "data_array = features\n",
    "label_array = labels\n",
    "group_array = groups\n",
    "data_array=np.moveaxis(data_array,1,2)"
   ]
  },
  {
   "cell_type": "code",
   "execution_count": 58,
   "id": "680d20a7",
   "metadata": {},
   "outputs": [],
   "source": [
    "accuracy=[]\n",
    "for train_index, val_index in gkf.split(data_array, label_array, groups=group_array):\n",
    "    train_features,train_labels=data_array[train_index],label_array[train_index]\n",
    "    val_features,val_labels=data_array[val_index],label_array[val_index]\n",
    "    scaler=StandardScaler3D()\n",
    "    train_features=scaler.fit_transform(train_features)\n",
    "    val_features=scaler.transform(val_features)\n",
    "    break"
   ]
  },
  {
   "cell_type": "code",
   "execution_count": 59,
   "id": "3f10e5c7",
   "metadata": {},
   "outputs": [],
   "source": [
    "scaler=StandardScaler3D()\n",
    "train_features,val_features,train_labels,val_labels = train_test_split(data_array, label_array, test_size=0.25, random_state=2)\n",
    "train_features=scaler.fit_transform(train_features)\n",
    "val_features=scaler.transform(val_features)"
   ]
  },
  {
   "cell_type": "code",
   "execution_count": 60,
   "id": "0d3730d7",
   "metadata": {},
   "outputs": [
    {
     "data": {
      "text/plain": [
       "((972, 1001, 22), (972, 1))"
      ]
     },
     "execution_count": 60,
     "metadata": {},
     "output_type": "execute_result"
    }
   ],
   "source": [
    "train_features.shape, train_labels.shape"
   ]
  },
  {
   "cell_type": "code",
   "execution_count": 61,
   "id": "90961124",
   "metadata": {},
   "outputs": [],
   "source": [
    "train_features=np.moveaxis(train_features,1,2)\n",
    "val_features=np.moveaxis(val_features,1,2)"
   ]
  },
  {
   "cell_type": "code",
   "execution_count": 62,
   "id": "a4fdb0ec",
   "metadata": {},
   "outputs": [
    {
     "data": {
      "text/plain": [
       "((972, 22, 1001), (972, 1))"
      ]
     },
     "execution_count": 62,
     "metadata": {},
     "output_type": "execute_result"
    }
   ],
   "source": [
    "train_features.shape, train_labels.shape"
   ]
  },
  {
   "cell_type": "markdown",
   "id": "bae92f4b",
   "metadata": {},
   "source": [
    "# ShallowConvNet"
   ]
  },
  {
   "cell_type": "code",
   "execution_count": 63,
   "id": "88c35ac3",
   "metadata": {},
   "outputs": [],
   "source": [
    "from tensorflow.keras.models import Model\n",
    "from tensorflow.keras.layers import Dense, Activation, Permute, Dropout\n",
    "from tensorflow.keras.layers import Conv2D, MaxPooling2D, AveragePooling2D\n",
    "from tensorflow.keras.layers import SeparableConv2D, DepthwiseConv2D\n",
    "from tensorflow.keras.layers import BatchNormalization\n",
    "from tensorflow.keras.layers import SpatialDropout2D\n",
    "from tensorflow.keras.regularizers import l1_l2\n",
    "from tensorflow.keras.layers import Input, Flatten\n",
    "from tensorflow.keras.constraints import max_norm\n",
    "from tensorflow.keras import backend as K\n",
    "import tensorflow as tf"
   ]
  },
  {
   "cell_type": "code",
   "execution_count": 64,
   "id": "95179dad",
   "metadata": {},
   "outputs": [],
   "source": [
    "def square(x):\n",
    "    return K.square(x)\n",
    "\n",
    "def log(x):\n",
    "    return K.log(K.clip(x, min_value = 1e-7, max_value = 10000))   \n",
    "\n",
    "\n",
    "def ShallowConvNet(nb_classes, Chans = 64, Samples = 128, dropoutRate = 0.5):\n",
    "    \"\"\" Keras implementation of the Shallow Convolutional Network as described\n",
    "    in Schirrmeister et. al. (2017), Human Brain Mapping.\n",
    "    \n",
    "    Assumes the input is a 2-second EEG signal sampled at 128Hz. Note that in \n",
    "    the original paper, they do temporal convolutions of length 25 for EEG\n",
    "    data sampled at 250Hz. We instead use length 13 since the sampling rate is \n",
    "    roughly half of the 250Hz which the paper used. The pool_size and stride\n",
    "    in later layers is also approximately half of what is used in the paper.\n",
    "    \n",
    "    Note that we use the max_norm constraint on all convolutional layers, as \n",
    "    well as the classification layer. We also change the defaults for the\n",
    "    BatchNormalization layer. We used this based on a personal communication \n",
    "    with the original authors.\n",
    "    \n",
    "                     ours        original paper\n",
    "    pool_size        1, 35       1, 75\n",
    "    strides          1, 7        1, 15\n",
    "    conv filters     1, 13       1, 25    \n",
    "    \n",
    "    Note that this implementation has not been verified by the original \n",
    "    authors. We do note that this implementation reproduces the results in the\n",
    "    original paper with minor deviations. \n",
    "    \"\"\"\n",
    "\n",
    "    # start the model\n",
    "    input_main   = Input((Chans, Samples, 1))\n",
    "    block1       = Conv2D(40, (1, 13), \n",
    "                                 input_shape=(Chans, Samples, 1),\n",
    "                                 kernel_constraint = max_norm(2., axis=(0,1,2)))(input_main)\n",
    "    block1       = Conv2D(40, (Chans, 1), use_bias=False, \n",
    "                          kernel_constraint = max_norm(2., axis=(0,1,2)))(block1)\n",
    "    block1       = BatchNormalization(epsilon=1e-05, momentum=0.9)(block1)\n",
    "    block1       = Activation(square)(block1)\n",
    "    block1       = AveragePooling2D(pool_size=(1, 35), strides=(1, 7))(block1)\n",
    "    block1       = Activation(log)(block1)\n",
    "    block1       = Dropout(dropoutRate)(block1)\n",
    "    flatten      = Flatten()(block1)\n",
    "    dense        = Dense(nb_classes, kernel_constraint = max_norm(0.5))(flatten)\n",
    "    softmax      = Activation('sigmoid')(dense)\n",
    "    \n",
    "    return Model(inputs=input_main, outputs=softmax)"
   ]
  },
  {
   "cell_type": "code",
   "execution_count": 65,
   "id": "66725586",
   "metadata": {},
   "outputs": [
    {
     "name": "stdout",
     "output_type": "stream",
     "text": [
      "Model: \"model_1\"\n",
      "_________________________________________________________________\n",
      " Layer (type)                Output Shape              Param #   \n",
      "=================================================================\n",
      " input_2 (InputLayer)        [(None, 22, 1001, 1)]     0         \n",
      "                                                                 \n",
      " conv2d_2 (Conv2D)           (None, 22, 989, 40)       560       \n",
      "                                                                 \n",
      " conv2d_3 (Conv2D)           (None, 1, 989, 40)        35200     \n",
      "                                                                 \n",
      " batch_normalization_1 (Batc  (None, 1, 989, 40)       160       \n",
      " hNormalization)                                                 \n",
      "                                                                 \n",
      " activation_3 (Activation)   (None, 1, 989, 40)        0         \n",
      "                                                                 \n",
      " average_pooling2d_1 (Averag  (None, 1, 137, 40)       0         \n",
      " ePooling2D)                                                     \n",
      "                                                                 \n",
      " activation_4 (Activation)   (None, 1, 137, 40)        0         \n",
      "                                                                 \n",
      " dropout_1 (Dropout)         (None, 1, 137, 40)        0         \n",
      "                                                                 \n",
      " flatten_1 (Flatten)         (None, 5480)              0         \n",
      "                                                                 \n",
      " dense_1 (Dense)             (None, 1)                 5481      \n",
      "                                                                 \n",
      " activation_5 (Activation)   (None, 1)                 0         \n",
      "                                                                 \n",
      "=================================================================\n",
      "Total params: 41,401\n",
      "Trainable params: 41,321\n",
      "Non-trainable params: 80\n",
      "_________________________________________________________________\n"
     ]
    }
   ],
   "source": [
    "shallowconvnet = ShallowConvNet(1, features.shape[1],features.shape[2],dropoutRate = 0.3)\n",
    "shallowconvnet.summary()"
   ]
  },
  {
   "cell_type": "code",
   "execution_count": 66,
   "id": "856cb44f",
   "metadata": {},
   "outputs": [],
   "source": [
    "shallowconvnet.compile(optimizer=tf.keras.optimizers.Adam(learning_rate=0.005), loss = 'binary_crossentropy',metrics=['accuracy'])"
   ]
  },
  {
   "cell_type": "code",
   "execution_count": 67,
   "id": "afefb46f",
   "metadata": {
    "scrolled": false
   },
   "outputs": [
    {
     "name": "stdout",
     "output_type": "stream",
     "text": [
      "Epoch 1/50\n",
      "31/31 [==============================] - 19s 468ms/step - loss: 0.9623 - accuracy: 0.5936 - val_loss: 0.7737 - val_accuracy: 0.5864\n",
      "Epoch 2/50\n",
      "31/31 [==============================] - 13s 423ms/step - loss: 0.6647 - accuracy: 0.6842 - val_loss: 0.6279 - val_accuracy: 0.6883\n",
      "Epoch 3/50\n",
      "31/31 [==============================] - 15s 480ms/step - loss: 0.5025 - accuracy: 0.7438 - val_loss: 0.5253 - val_accuracy: 0.7407\n",
      "Epoch 4/50\n",
      "31/31 [==============================] - 16s 502ms/step - loss: 0.4615 - accuracy: 0.7870 - val_loss: 0.5499 - val_accuracy: 0.7160\n",
      "Epoch 5/50\n",
      "31/31 [==============================] - 15s 483ms/step - loss: 0.3571 - accuracy: 0.8570 - val_loss: 0.4786 - val_accuracy: 0.7747\n",
      "Epoch 6/50\n",
      "31/31 [==============================] - 16s 513ms/step - loss: 0.3340 - accuracy: 0.8580 - val_loss: 0.9188 - val_accuracy: 0.6265\n",
      "Epoch 7/50\n",
      "31/31 [==============================] - 15s 484ms/step - loss: 0.3847 - accuracy: 0.8344 - val_loss: 0.3978 - val_accuracy: 0.8148\n",
      "Epoch 8/50\n",
      "31/31 [==============================] - 14s 467ms/step - loss: 0.3144 - accuracy: 0.8693 - val_loss: 0.3788 - val_accuracy: 0.8117\n",
      "Epoch 9/50\n",
      "31/31 [==============================] - 16s 524ms/step - loss: 0.2939 - accuracy: 0.8909 - val_loss: 0.4264 - val_accuracy: 0.8025\n",
      "Epoch 10/50\n",
      "31/31 [==============================] - 15s 485ms/step - loss: 0.3035 - accuracy: 0.8827 - val_loss: 0.3809 - val_accuracy: 0.8395\n",
      "Epoch 11/50\n",
      "31/31 [==============================] - 13s 431ms/step - loss: 0.2384 - accuracy: 0.9270 - val_loss: 0.3841 - val_accuracy: 0.8241\n",
      "Epoch 12/50\n",
      "31/31 [==============================] - 14s 448ms/step - loss: 0.3029 - accuracy: 0.8837 - val_loss: 0.3569 - val_accuracy: 0.8457\n",
      "Epoch 13/50\n",
      "31/31 [==============================] - 15s 488ms/step - loss: 0.3202 - accuracy: 0.8765 - val_loss: 0.3888 - val_accuracy: 0.8179\n",
      "Epoch 14/50\n",
      "31/31 [==============================] - 15s 497ms/step - loss: 0.2386 - accuracy: 0.9146 - val_loss: 0.3338 - val_accuracy: 0.8272\n",
      "Epoch 15/50\n",
      "31/31 [==============================] - 14s 457ms/step - loss: 0.2289 - accuracy: 0.9218 - val_loss: 0.3996 - val_accuracy: 0.8241\n",
      "Epoch 16/50\n",
      "31/31 [==============================] - 14s 437ms/step - loss: 0.2547 - accuracy: 0.9053 - val_loss: 0.3543 - val_accuracy: 0.8611\n",
      "Epoch 17/50\n",
      "31/31 [==============================] - 14s 446ms/step - loss: 0.2130 - accuracy: 0.9352 - val_loss: 0.3263 - val_accuracy: 0.8488\n",
      "Epoch 18/50\n",
      "31/31 [==============================] - 14s 452ms/step - loss: 0.2294 - accuracy: 0.9249 - val_loss: 0.3748 - val_accuracy: 0.8395\n",
      "Epoch 19/50\n",
      "31/31 [==============================] - 13s 436ms/step - loss: 0.2427 - accuracy: 0.9115 - val_loss: 0.3096 - val_accuracy: 0.8673\n",
      "Epoch 20/50\n",
      "31/31 [==============================] - 14s 460ms/step - loss: 0.2436 - accuracy: 0.9177 - val_loss: 0.3074 - val_accuracy: 0.8549\n",
      "Epoch 21/50\n",
      "31/31 [==============================] - 14s 445ms/step - loss: 0.2288 - accuracy: 0.9280 - val_loss: 0.4324 - val_accuracy: 0.7778\n",
      "Epoch 22/50\n",
      "31/31 [==============================] - 13s 423ms/step - loss: 0.2712 - accuracy: 0.8909 - val_loss: 0.4349 - val_accuracy: 0.8025\n",
      "Epoch 23/50\n",
      "31/31 [==============================] - 13s 420ms/step - loss: 0.2859 - accuracy: 0.8837 - val_loss: 0.3858 - val_accuracy: 0.8086\n",
      "Epoch 24/50\n",
      "31/31 [==============================] - 13s 433ms/step - loss: 0.2615 - accuracy: 0.9023 - val_loss: 0.3224 - val_accuracy: 0.8549\n",
      "Epoch 25/50\n",
      "31/31 [==============================] - 14s 451ms/step - loss: 0.2854 - accuracy: 0.8920 - val_loss: 0.4011 - val_accuracy: 0.7994\n",
      "Epoch 26/50\n",
      "31/31 [==============================] - 13s 434ms/step - loss: 0.2235 - accuracy: 0.9156 - val_loss: 0.4044 - val_accuracy: 0.8056\n",
      "Epoch 27/50\n",
      "31/31 [==============================] - 13s 430ms/step - loss: 0.2165 - accuracy: 0.9300 - val_loss: 0.4541 - val_accuracy: 0.8179\n",
      "Epoch 28/50\n",
      "31/31 [==============================] - 13s 434ms/step - loss: 0.2022 - accuracy: 0.9393 - val_loss: 0.3960 - val_accuracy: 0.8395\n",
      "Epoch 29/50\n",
      "31/31 [==============================] - 14s 440ms/step - loss: 0.2813 - accuracy: 0.8868 - val_loss: 0.3925 - val_accuracy: 0.8241\n",
      "Epoch 30/50\n",
      "31/31 [==============================] - 13s 417ms/step - loss: 0.2177 - accuracy: 0.9300 - val_loss: 0.4951 - val_accuracy: 0.7747\n",
      "Epoch 31/50\n",
      "31/31 [==============================] - 14s 443ms/step - loss: 0.2759 - accuracy: 0.8889 - val_loss: 0.3253 - val_accuracy: 0.8333\n",
      "Epoch 32/50\n",
      "31/31 [==============================] - 13s 436ms/step - loss: 0.2000 - accuracy: 0.9393 - val_loss: 0.3365 - val_accuracy: 0.8457\n",
      "Epoch 33/50\n",
      "31/31 [==============================] - 13s 424ms/step - loss: 0.1861 - accuracy: 0.9434 - val_loss: 0.2879 - val_accuracy: 0.8765\n",
      "Epoch 34/50\n",
      "31/31 [==============================] - 14s 455ms/step - loss: 0.2078 - accuracy: 0.9280 - val_loss: 0.2896 - val_accuracy: 0.8920\n",
      "Epoch 35/50\n",
      "31/31 [==============================] - 13s 438ms/step - loss: 0.2396 - accuracy: 0.9136 - val_loss: 0.3149 - val_accuracy: 0.8642\n",
      "Epoch 36/50\n",
      "31/31 [==============================] - 13s 428ms/step - loss: 0.2815 - accuracy: 0.8796 - val_loss: 0.4658 - val_accuracy: 0.8025\n",
      "Epoch 37/50\n",
      "31/31 [==============================] - 13s 410ms/step - loss: 0.2217 - accuracy: 0.9167 - val_loss: 0.2994 - val_accuracy: 0.8642\n",
      "Epoch 38/50\n",
      "31/31 [==============================] - 10s 318ms/step - loss: 0.1746 - accuracy: 0.9568 - val_loss: 0.3007 - val_accuracy: 0.8549\n",
      "Epoch 39/50\n",
      "31/31 [==============================] - 10s 317ms/step - loss: 0.2332 - accuracy: 0.9126 - val_loss: 0.3925 - val_accuracy: 0.8364\n",
      "Epoch 40/50\n",
      "31/31 [==============================] - 9s 306ms/step - loss: 0.2286 - accuracy: 0.9177 - val_loss: 0.3396 - val_accuracy: 0.8364\n",
      "Epoch 41/50\n",
      "31/31 [==============================] - 9s 304ms/step - loss: 0.1957 - accuracy: 0.9383 - val_loss: 0.3148 - val_accuracy: 0.8549\n",
      "Epoch 42/50\n",
      "31/31 [==============================] - 9s 282ms/step - loss: 0.2190 - accuracy: 0.9198 - val_loss: 0.4192 - val_accuracy: 0.8117\n",
      "Epoch 43/50\n",
      "31/31 [==============================] - 9s 288ms/step - loss: 0.2334 - accuracy: 0.9177 - val_loss: 0.4509 - val_accuracy: 0.7840\n",
      "Epoch 44/50\n",
      "31/31 [==============================] - 9s 291ms/step - loss: 0.1927 - accuracy: 0.9455 - val_loss: 0.3151 - val_accuracy: 0.8426\n",
      "Epoch 45/50\n",
      "31/31 [==============================] - 9s 296ms/step - loss: 0.1779 - accuracy: 0.9537 - val_loss: 0.3499 - val_accuracy: 0.8611\n",
      "Epoch 46/50\n",
      "31/31 [==============================] - 8s 276ms/step - loss: 0.1870 - accuracy: 0.9414 - val_loss: 0.3396 - val_accuracy: 0.8642\n",
      "Epoch 47/50\n",
      "31/31 [==============================] - 9s 277ms/step - loss: 0.1833 - accuracy: 0.9486 - val_loss: 0.4341 - val_accuracy: 0.8086\n",
      "Epoch 48/50\n",
      "31/31 [==============================] - 8s 273ms/step - loss: 0.2137 - accuracy: 0.9177 - val_loss: 0.3010 - val_accuracy: 0.8580\n",
      "Epoch 49/50\n",
      "31/31 [==============================] - 9s 280ms/step - loss: 0.2074 - accuracy: 0.9270 - val_loss: 0.3779 - val_accuracy: 0.8333\n",
      "Epoch 50/50\n",
      "31/31 [==============================] - 8s 274ms/step - loss: 0.2282 - accuracy: 0.9156 - val_loss: 0.3664 - val_accuracy: 0.8333\n"
     ]
    }
   ],
   "source": [
    "shallowconvnet_history = shallowconvnet.fit(train_features, train_labels,epochs=50,batch_size=32,validation_data=(val_features, val_labels))"
   ]
  },
  {
   "cell_type": "code",
   "execution_count": 68,
   "id": "b4f39665",
   "metadata": {},
   "outputs": [
    {
     "data": {
      "text/plain": [
       "[<matplotlib.lines.Line2D at 0x22e086919a0>]"
      ]
     },
     "execution_count": 68,
     "metadata": {},
     "output_type": "execute_result"
    },
    {
     "data": {
      "image/png": "[encoded data removed]",
      "text/plain": [
       "<Figure size 432x288 with 1 Axes>"
      ]
     },
     "metadata": {
      "needs_background": "light"
     },
     "output_type": "display_data"
    }
   ],
   "source": [
    "plt.plot(shallowconvnet_history.history[\"accuracy\"])\n",
    "plt.plot(shallowconvnet_history.history[\"val_accuracy\"])"
   ]
  },
  {
   "cell_type": "code",
   "execution_count": 69,
   "id": "ed2b638a",
   "metadata": {},
   "outputs": [
    {
     "data": {
      "text/plain": [
       "[<matplotlib.lines.Line2D at 0x22e086f6df0>]"
      ]
     },
     "execution_count": 69,
     "metadata": {},
     "output_type": "execute_result"
    },
    {
     "data": {
      "image/png": "[encoded data removed]",
      "text/plain": [
       "<Figure size 432x288 with 1 Axes>"
      ]
     },
     "metadata": {
      "needs_background": "light"
     },
     "output_type": "display_data"
    }
   ],
   "source": [
    "plt.plot(shallowconvnet_history.history[\"loss\"])\n",
    "plt.plot(shallowconvnet_history.history[\"val_loss\"])"
   ]
  },
  {
   "cell_type": "markdown",
   "id": "7be1c231",
   "metadata": {},
   "source": [
    "#Binary Class Class accuaracies"
   ]
  },
  {
   "cell_type": "code",
   "execution_count": 70,
   "id": "6b07abe3",
   "metadata": {},
   "outputs": [],
   "source": [
    "model = shallowconvnet"
   ]
  },
  {
   "cell_type": "code",
   "execution_count": 71,
   "id": "5dcd4a70",
   "metadata": {},
   "outputs": [
    {
     "name": "stdout",
     "output_type": "stream",
     "text": [
      "              precision    recall  f1-score   support\n",
      "\n",
      "           0       0.97      0.92      0.94       475\n",
      "           1       0.93      0.97      0.95       497\n",
      "\n",
      "    accuracy                           0.95       972\n",
      "   macro avg       0.95      0.95      0.95       972\n",
      "weighted avg       0.95      0.95      0.95       972\n",
      "\n"
     ]
    },
    {
     "data": {
      "text/plain": [
       "<AxesSubplot:>"
      ]
     },
     "execution_count": 71,
     "metadata": {},
     "output_type": "execute_result"
    },
    {
     "data": {
      "image/png": "[encoded data removed]",
      "text/plain": [
       "<Figure size 432x288 with 2 Axes>"
      ]
     },
     "metadata": {
      "needs_background": "light"
     },
     "output_type": "display_data"
    }
   ],
   "source": [
    "# classification report on training set\n",
    "y_p = []\n",
    "pred = model.predict_on_batch(train_features)\n",
    "pred = pred.reshape(pred.shape[0])\n",
    "for l in pred:\n",
    "    if l>0.5:\n",
    "        y_p.append(1)\n",
    "    else:\n",
    "        y_p.append(0)\n",
    "y_t = train_labels.reshape(train_labels.shape[0])\n",
    "print(classification_report(y_t, y_p))\n",
    "cf_matrix = confusion_matrix(y_t, y_p)\n",
    "sns.heatmap(cf_matrix, annot=True)"
   ]
  },
  {
   "cell_type": "code",
   "execution_count": 72,
   "id": "ac75161e",
   "metadata": {},
   "outputs": [
    {
     "name": "stdout",
     "output_type": "stream",
     "text": [
      "              precision    recall  f1-score   support\n",
      "\n",
      "           0       0.93      0.74      0.83       173\n",
      "           1       0.76      0.94      0.84       151\n",
      "\n",
      "    accuracy                           0.83       324\n",
      "   macro avg       0.85      0.84      0.83       324\n",
      "weighted avg       0.85      0.83      0.83       324\n",
      "\n"
     ]
    },
    {
     "data": {
      "text/plain": [
       "<AxesSubplot:>"
      ]
     },
     "execution_count": 72,
     "metadata": {},
     "output_type": "execute_result"
    },
    {
     "data": {
      "image/png": "[encoded data removed]",
      "text/plain": [
       "<Figure size 432x288 with 2 Axes>"
      ]
     },
     "metadata": {
      "needs_background": "light"
     },
     "output_type": "display_data"
    }
   ],
   "source": [
    "# classification report on validation set\n",
    "y_p = []\n",
    "pred = model.predict_on_batch(val_features)\n",
    "pred = pred.reshape(pred.shape[0])\n",
    "for l in pred:\n",
    "    if l>0.5:\n",
    "        y_p.append(1)\n",
    "    else:\n",
    "        y_p.append(0)\n",
    "y_t = val_labels.reshape(val_labels.shape[0])\n",
    "print(classification_report(y_t, y_p))\n",
    "cf_matrix = confusion_matrix(y_t, y_p)\n",
    "sns.heatmap(cf_matrix, annot=True)"
   ]
  },
  {
   "cell_type": "markdown",
   "id": "1396fc61",
   "metadata": {},
   "source": [
    "#Multiclass class accuracies "
   ]
  },
  {
   "cell_type": "code",
   "execution_count": 73,
   "id": "5dc09d72",
   "metadata": {},
   "outputs": [
    {
     "name": "stdout",
     "output_type": "stream",
     "text": [
      "              precision    recall  f1-score   support\n",
      "\n",
      "           0       1.00      1.00      1.00       324\n",
      "\n",
      "    accuracy                           1.00       324\n",
      "   macro avg       1.00      1.00      1.00       324\n",
      "weighted avg       1.00      1.00      1.00       324\n",
      "\n"
     ]
    },
    {
     "data": {
      "text/plain": [
       "<AxesSubplot:>"
      ]
     },
     "execution_count": 73,
     "metadata": {},
     "output_type": "execute_result"
    },
    {
     "data": {
      "image/png": "[encoded data removed]",
      "text/plain": [
       "<Figure size 432x288 with 2 Axes>"
      ]
     },
     "metadata": {
      "needs_background": "light"
     },
     "output_type": "display_data"
    }
   ],
   "source": [
    "y_t = np.argmax(val_labels, axis=1) # Convert one-hot to index\n",
    "pred = model.predict_on_batch(val_features)\n",
    "y_p = np.argmax(pred,axis=1)\n",
    "print(classification_report(y_t, y_p))\n",
    "cf_matrix = confusion_matrix(y_t, y_p)\n",
    "sns.heatmap(cf_matrix, annot=True)"
   ]
  },
  {
   "cell_type": "code",
   "execution_count": 74,
   "id": "411e9cfd",
   "metadata": {},
   "outputs": [
    {
     "name": "stdout",
     "output_type": "stream",
     "text": [
      "              precision    recall  f1-score   support\n",
      "\n",
      "           0       1.00      1.00      1.00       972\n",
      "\n",
      "    accuracy                           1.00       972\n",
      "   macro avg       1.00      1.00      1.00       972\n",
      "weighted avg       1.00      1.00      1.00       972\n",
      "\n"
     ]
    },
    {
     "data": {
      "text/plain": [
       "<AxesSubplot:>"
      ]
     },
     "execution_count": 74,
     "metadata": {},
     "output_type": "execute_result"
    },
    {
     "data": {
      "image/png": "[encoded data removed]",
      "text/plain": [
       "<Figure size 432x288 with 2 Axes>"
      ]
     },
     "metadata": {
      "needs_background": "light"
     },
     "output_type": "display_data"
    }
   ],
   "source": [
    "y_t = np.argmax(train_labels, axis=1) # Convert one-hot to index\n",
    "pred = model.predict_on_batch(train_features)\n",
    "y_p = np.argmax(pred,axis=1)\n",
    "print(classification_report(y_t, y_p))\n",
    "cf_matrix = confusion_matrix(y_t, y_p)\n",
    "sns.heatmap(cf_matrix, annot=True)"
   ]
  },
  {
   "cell_type": "code",
   "execution_count": 75,
   "id": "fd03c37d",
   "metadata": {},
   "outputs": [],
   "source": [
    "y_p = model.predict_on_batch(val_features)"
   ]
  },
  {
   "cell_type": "code",
   "execution_count": 76,
   "id": "ac4d9363",
   "metadata": {},
   "outputs": [
    {
     "data": {
      "text/plain": [
       "151"
      ]
     },
     "execution_count": 76,
     "metadata": {},
     "output_type": "execute_result"
    }
   ],
   "source": [
    "np.count_nonzero(val_labels)"
   ]
  },
  {
   "cell_type": "code",
   "execution_count": 77,
   "id": "ae43c380",
   "metadata": {},
   "outputs": [
    {
     "data": {
      "text/plain": [
       "324"
      ]
     },
     "execution_count": 77,
     "metadata": {},
     "output_type": "execute_result"
    }
   ],
   "source": [
    "len(val_labels)"
   ]
  },
  {
   "cell_type": "code",
   "execution_count": null,
   "id": "9f8a6911",
   "metadata": {},
   "outputs": [],
   "source": []
  }
 ],
 "metadata": {
  "kernelspec": {
   "display_name": "Python 3 (ipykernel)",
   "language": "python",
   "name": "python3"
  },
  "language_info": {
   "codemirror_mode": {
    "name": "ipython",
    "version": 3
   },
   "file_extension": ".py",
   "mimetype": "text/x-python",
   "name": "python",
   "nbconvert_exporter": "python",
   "pygments_lexer": "ipython3",
   "version": "3.9.1"
  }
 },
 "nbformat": 4,
 "nbformat_minor": 5
}

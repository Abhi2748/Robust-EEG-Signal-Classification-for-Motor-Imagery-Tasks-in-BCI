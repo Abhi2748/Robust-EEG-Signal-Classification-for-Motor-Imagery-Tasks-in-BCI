{
 "cells": [
  {
   "cell_type": "code",
   "execution_count": 51,
   "id": "596fc4ef",
   "metadata": {},
   "outputs": [],
   "source": [
    "## analyse the data\n",
    "import mne\n",
    "import numpy as np\n",
    "import matplotlib.pyplot as plt\n",
    "import glob\n",
    "\n",
    "from sklearn.metrics import classification_report\n",
    "import numpy as np\n",
    "from sklearn.metrics import confusion_matrix\n",
    "import seaborn as sns"
   ]
  },
  {
   "cell_type": "code",
   "execution_count": 52,
   "id": "42cc7558",
   "metadata": {},
   "outputs": [
    {
     "name": "stdout",
     "output_type": "stream",
     "text": [
      "Extracting EDF parameters from D:\\bci project\\BCI PROJECT-20220624T090242Z-001\\BCI PROJECT\\Notebooks\\BCI 4\\BCICIV_2a_gdf\\A01E.gdf...\n",
      "GDF file detected\n",
      "Setting channel info structure...\n",
      "Could not determine channel type of the following channels, they will be set as EEG:\n",
      "EEG-Fz, EEG, EEG, EEG, EEG, EEG, EEG, EEG-C3, EEG, EEG-Cz, EEG, EEG-C4, EEG, EEG, EEG, EEG, EEG, EEG, EEG, EEG-Pz, EEG, EEG\n",
      "Creating raw.info structure...\n"
     ]
    },
    {
     "name": "stderr",
     "output_type": "stream",
     "text": [
      "c:\\users\\hp\\appdata\\local\\programs\\python\\python39\\lib\\site-packages\\mne\\io\\edf\\edf.py:1155: DeprecationWarning: The binary mode of fromstring is deprecated, as it behaves surprisingly on unicode inputs. Use frombuffer instead\n",
      "  etmode = np.fromstring(etmode, UINT8).tolist()[0]\n",
      "c:\\users\\hp\\appdata\\local\\programs\\python\\python39\\lib\\contextlib.py:124: RuntimeWarning: Channel names are not unique, found duplicates for: {'EEG'}. Applying running numbers for duplicates.\n",
      "  next(self.gen)\n"
     ]
    },
    {
     "data": {
      "text/html": [
       "<table class=\"table table-hover table-striped table-sm table-responsive small\">\n",
       "    <tr>\n",
       "        <th>Measurement date</th>\n",
       "        \n",
       "        <td>January 19, 2005  12:00:00 GMT</td>\n",
       "        \n",
       "    </tr>\n",
       "    <tr>\n",
       "        <th>Experimenter</th>\n",
       "        \n",
       "        <td>Unknown</td>\n",
       "        \n",
       "    </tr>\n",
       "        <th>Participant</th>\n",
       "        \n",
       "        <td>Unknown</td>\n",
       "        \n",
       "    </tr>\n",
       "    <tr>\n",
       "        <th>Digitized points</th>\n",
       "        \n",
       "        <td>Not available</td>\n",
       "        \n",
       "    </tr>\n",
       "    <tr>\n",
       "        <th>Good channels</th>\n",
       "        <td>22 EEG</td>\n",
       "    </tr>\n",
       "    <tr>\n",
       "        <th>Bad channels</th>\n",
       "        <td>None</td>\n",
       "    </tr>\n",
       "    <tr>\n",
       "        <th>EOG channels</th>\n",
       "        <td>Not available</td>\n",
       "    </tr>\n",
       "    <tr>\n",
       "        <th>ECG channels</th>\n",
       "        <td>Not available</td>\n",
       "    \n",
       "    <tr>\n",
       "        <th>Sampling frequency</th>\n",
       "        <td>250.00 Hz</td>\n",
       "    </tr>\n",
       "    \n",
       "    \n",
       "    <tr>\n",
       "        <th>Highpass</th>\n",
       "        <td>0.50 Hz</td>\n",
       "    </tr>\n",
       "    \n",
       "    \n",
       "    <tr>\n",
       "        <th>Lowpass</th>\n",
       "        <td>100.00 Hz</td>\n",
       "    </tr>\n",
       "    \n",
       "    \n",
       "    \n",
       "    <tr>\n",
       "        <th>Filenames</th>\n",
       "        <td>A01E.gdf</td>\n",
       "    </tr>\n",
       "    \n",
       "    <tr>\n",
       "        <th>Duration</th>\n",
       "        <td>00:45:47 (HH:MM:SS)</td>\n",
       "    </tr>\n",
       "</table>"
      ],
      "text/plain": [
       "<RawGDF | A01E.gdf, 22 x 687000 (2748.0 s), ~26 kB, data not loaded>"
      ]
     },
     "execution_count": 52,
     "metadata": {},
     "output_type": "execute_result"
    }
   ],
   "source": [
    "raw=mne.io.read_raw_gdf('BCICIV_2a_gdf/A01E.gdf',\n",
    "                         eog=['EOG-left', 'EOG-central', 'EOG-right'])\n",
    "raw.drop_channels(['EOG-left', 'EOG-central', 'EOG-right'])"
   ]
  },
  {
   "cell_type": "markdown",
   "id": "09b8ca64",
   "metadata": {},
   "source": [
    "From the paper:-\n",
    "'1023': 1 (Rejected trial),\n",
    "'1072': 2 (Eye movements),\n",
    "'276': 3 (eyes open)),\n",
    "'277': 4 (eyes closed),\n",
    "'32766':5 (Start of a new run),\n",
    "'768': 6 (Start of a trial),\n",
    "'769': 7 (class 1),\n",
    "'770': 8 (class 2),\n",
    "'771': 9 (class 3),\n",
    "'772': 10 (class 4)\n",
    "event ids are not same for all subjects"
   ]
  },
  {
   "cell_type": "code",
   "execution_count": 53,
   "id": "889f193a",
   "metadata": {},
   "outputs": [],
   "source": [
    " def read_data(path):\n",
    "    raw=mne.io.read_raw_gdf(path,preload=True,\n",
    "                          eog=['EOG-left', 'EOG-central', 'EOG-right'])\n",
    "    raw.drop_channels(['EOG-left', 'EOG-central', 'EOG-right'])\n",
    "    raw.set_eeg_reference()\n",
    "    events, event_id =mne.events_from_annotations(raw)\n",
    "    #events[1]['769'],events[1]['770'],events[1]['771'],events[1]['772']\n",
    "    ann = event_id.keys()\n",
    "    ann = list(map(int,ann))\n",
    "    ids = event_id.values()\n",
    "    ids = list(ids)\n",
    "    unq = np.unique(events[:,-1])\n",
    "    for u in unq:\n",
    "        events[:,-1] = np.where(events[:,-1]== u , ann[u-1],events[:,-1])\n",
    "    epochs = mne.Epochs(raw, events, event_id=[770,771],\n",
    "                        tmin= 0, tmax=4,baseline=(None,4), on_missing ='warn')\n",
    "    labels=epochs.events[:,-1]\n",
    "    features=epochs.get_data()\n",
    "    return features,labels"
   ]
  },
  {
   "cell_type": "code",
   "execution_count": 54,
   "id": "d7e18f44",
   "metadata": {},
   "outputs": [
    {
     "data": {
      "text/plain": [
       "['BCICIV_2a_gdf\\\\A01T.gdf',\n",
       " 'BCICIV_2a_gdf\\\\A02T.gdf',\n",
       " 'BCICIV_2a_gdf\\\\A03T.gdf',\n",
       " 'BCICIV_2a_gdf\\\\A04T.gdf',\n",
       " 'BCICIV_2a_gdf\\\\A05T.gdf',\n",
       " 'BCICIV_2a_gdf\\\\A06T.gdf',\n",
       " 'BCICIV_2a_gdf\\\\A07T.gdf',\n",
       " 'BCICIV_2a_gdf\\\\A08T.gdf',\n",
       " 'BCICIV_2a_gdf\\\\A09T.gdf']"
      ]
     },
     "execution_count": 54,
     "metadata": {},
     "output_type": "execute_result"
    }
   ],
   "source": [
    "paths = glob.glob('BCICIV_2a_gdf/*T.gdf')\n",
    "paths"
   ]
  },
  {
   "cell_type": "code",
   "execution_count": 55,
   "id": "5cdf8ad3",
   "metadata": {},
   "outputs": [],
   "source": [
    "%%capture\n",
    "features,labels,groups=[],[],[]\n",
    "for i in paths:\n",
    "    feature,label=read_data(i)\n",
    "    features.append(feature)\n",
    "    labels.append(label)\n",
    "    groups.append([i]*len(label))"
   ]
  },
  {
   "cell_type": "code",
   "execution_count": 56,
   "id": "18b168ea",
   "metadata": {},
   "outputs": [
    {
     "data": {
      "text/plain": [
       "((1296, 22, 1001), (1296,), (1296,))"
      ]
     },
     "execution_count": 56,
     "metadata": {},
     "output_type": "execute_result"
    }
   ],
   "source": [
    "features=np.concatenate(features)\n",
    "labels=np.concatenate(labels)\n",
    "groups=np.concatenate(groups)\n",
    "\n",
    "features.shape,labels.shape,groups.shape"
   ]
  },
  {
   "cell_type": "code",
   "execution_count": 57,
   "id": "64894d1c",
   "metadata": {},
   "outputs": [
    {
     "data": {
      "text/plain": [
       "(array(['BCICIV_2a_gdf\\\\A01T.gdf', 'BCICIV_2a_gdf\\\\A02T.gdf',\n",
       "        'BCICIV_2a_gdf\\\\A03T.gdf', 'BCICIV_2a_gdf\\\\A04T.gdf',\n",
       "        'BCICIV_2a_gdf\\\\A05T.gdf', 'BCICIV_2a_gdf\\\\A06T.gdf',\n",
       "        'BCICIV_2a_gdf\\\\A07T.gdf', 'BCICIV_2a_gdf\\\\A08T.gdf',\n",
       "        'BCICIV_2a_gdf\\\\A09T.gdf'], dtype='<U22'),\n",
       " array([144, 144, 144, 144, 144, 144, 144, 144, 144], dtype=int64))"
      ]
     },
     "execution_count": 57,
     "metadata": {},
     "output_type": "execute_result"
    }
   ],
   "source": [
    "unique, counts = np.unique(groups, return_counts=True)\n",
    "unique, counts"
   ]
  },
  {
   "cell_type": "markdown",
   "id": "0bba7b27",
   "metadata": {},
   "source": [
    "# Chronet tensor preparation"
   ]
  },
  {
   "cell_type": "code",
   "execution_count": 58,
   "id": "abbbd938",
   "metadata": {},
   "outputs": [],
   "source": [
    "from sklearn.model_selection import GroupKFold,LeaveOneGroupOut\n",
    "from sklearn.preprocessing import StandardScaler\n",
    "gkf=GroupKFold()\n",
    "from sklearn.base import TransformerMixin,BaseEstimator\n",
    "from sklearn.preprocessing import StandardScaler\n",
    "#https://stackoverflow.com/questions/50125844/how-to-standard-scale-a-3d-matrix\n",
    "class StandardScaler3D(BaseEstimator,TransformerMixin):\n",
    "    #batch, sequence, channels\n",
    "    def __init__(self):\n",
    "        self.scaler = StandardScaler()\n",
    "\n",
    "    def fit(self,X,y=None):\n",
    "        self.scaler.fit(X.reshape(-1, X.shape[2]))\n",
    "        return self\n",
    "\n",
    "    def transform(self,X):\n",
    "        return self.scaler.transform(X.reshape( -1,X.shape[2])).reshape(X.shape)"
   ]
  },
  {
   "cell_type": "code",
   "execution_count": 59,
   "id": "eaca6720",
   "metadata": {},
   "outputs": [],
   "source": [
    "from sklearn import preprocessing\n",
    "from sklearn.model_selection import train_test_split"
   ]
  },
  {
   "cell_type": "code",
   "execution_count": 60,
   "id": "dd624c7a",
   "metadata": {},
   "outputs": [],
   "source": [
    "lb = preprocessing.LabelBinarizer()\n",
    "\n",
    "#enc_df= enc.fit_transform(dataset['60'])\n",
    "labels =  lb.fit_transform(labels)"
   ]
  },
  {
   "cell_type": "code",
   "execution_count": 61,
   "id": "dc0e51c3",
   "metadata": {},
   "outputs": [
    {
     "data": {
      "text/plain": [
       "array([0, 1])"
      ]
     },
     "execution_count": 61,
     "metadata": {},
     "output_type": "execute_result"
    }
   ],
   "source": [
    "np.unique(labels)"
   ]
  },
  {
   "cell_type": "code",
   "execution_count": 62,
   "id": "4f4a2ef8",
   "metadata": {},
   "outputs": [],
   "source": [
    "data_array = features\n",
    "label_array = labels\n",
    "group_array = groups\n",
    "#data_array=np.moveaxis(data_array,1,2)"
   ]
  },
  {
   "cell_type": "code",
   "execution_count": 63,
   "id": "e4be7304",
   "metadata": {},
   "outputs": [],
   "source": [
    "accuracy=[]\n",
    "for train_index, val_index in gkf.split(data_array, label_array, groups=group_array):\n",
    "    train_features,train_labels=data_array[train_index],label_array[train_index]\n",
    "    val_features,val_labels=data_array[val_index],label_array[val_index]\n",
    "    scaler=StandardScaler3D()\n",
    "    train_features=scaler.fit_transform(train_features)\n",
    "    val_features=scaler.transform(val_features)\n",
    "    break"
   ]
  },
  {
   "cell_type": "code",
   "execution_count": 64,
   "id": "33118b40",
   "metadata": {},
   "outputs": [],
   "source": [
    "scaler=StandardScaler3D()\n",
    "train_features,val_features,train_labels,val_labels = train_test_split(data_array, label_array, test_size=0.25, random_state=2)\n",
    "train_features=scaler.fit_transform(train_features)\n",
    "val_features=scaler.transform(val_features)"
   ]
  },
  {
   "cell_type": "code",
   "execution_count": 65,
   "id": "e3ccf741",
   "metadata": {},
   "outputs": [
    {
     "data": {
      "text/plain": [
       "((972, 22, 1001), (972, 1))"
      ]
     },
     "execution_count": 65,
     "metadata": {},
     "output_type": "execute_result"
    }
   ],
   "source": [
    "train_features.shape, train_labels.shape"
   ]
  },
  {
   "cell_type": "markdown",
   "id": "648b77f8",
   "metadata": {},
   "source": [
    "# DeepConvNet"
   ]
  },
  {
   "cell_type": "code",
   "execution_count": 66,
   "id": "df31f7b4",
   "metadata": {},
   "outputs": [],
   "source": [
    "from tensorflow.keras.models import Model\n",
    "from tensorflow.keras.layers import Dense, Activation, Permute, Dropout\n",
    "from tensorflow.keras.layers import Conv2D, MaxPooling2D, AveragePooling2D\n",
    "from tensorflow.keras.layers import SeparableConv2D, DepthwiseConv2D\n",
    "from tensorflow.keras.layers import BatchNormalization\n",
    "from tensorflow.keras.layers import SpatialDropout2D\n",
    "from tensorflow.keras.regularizers import l1_l2\n",
    "from tensorflow.keras.layers import Input, Flatten\n",
    "from tensorflow.keras.constraints import max_norm\n",
    "from tensorflow.keras import backend as K\n",
    "import tensorflow as tf"
   ]
  },
  {
   "cell_type": "code",
   "execution_count": 67,
   "id": "9cdee41b",
   "metadata": {},
   "outputs": [],
   "source": [
    "def DeepConvNet(nb_classes, Chans = 64, Samples = 256,\n",
    "                dropoutRate = 0.5):\n",
    "    \"\"\" Keras implementation of the Deep Convolutional Network as described in\n",
    "    Schirrmeister et. al. (2017), Human Brain Mapping.\n",
    "    \n",
    "    This implementation assumes the input is a 2-second EEG signal sampled at \n",
    "    128Hz, as opposed to signals sampled at 250Hz as described in the original\n",
    "    paper. We also perform temporal convolutions of length (1, 5) as opposed\n",
    "    to (1, 10) due to this sampling rate difference. \n",
    "    \n",
    "    Note that we use the max_norm constraint on all convolutional layers, as \n",
    "    well as the classification layer. We also change the defaults for the\n",
    "    BatchNormalization layer. We used this based on a personal communication \n",
    "    with the original authors.\n",
    "    \n",
    "                      ours        original paper\n",
    "    pool_size        1, 2        1, 3\n",
    "    strides          1, 2        1, 3\n",
    "    conv filters     1, 5        1, 10\n",
    "    \n",
    "    Note that this implementation has not been verified by the original \n",
    "    authors. \n",
    "    \n",
    "    \"\"\"\n",
    "\n",
    "    # start the model\n",
    "    input_main   = Input((Chans, Samples, 1))\n",
    "    block1       = Conv2D(25, (1, 5), \n",
    "                                 input_shape=(Chans, Samples, 1),\n",
    "                                 kernel_constraint = max_norm(2., axis=(0,1,2)))(input_main)\n",
    "    block1       = Conv2D(25, (Chans, 1),\n",
    "                                 kernel_constraint = max_norm(2., axis=(0,1,2)))(block1)\n",
    "    block1       = BatchNormalization(epsilon=1e-05, momentum=0.9)(block1)\n",
    "    block1       = Activation('elu')(block1)\n",
    "    block1       = MaxPooling2D(pool_size=(1, 2), strides=(1, 2))(block1)\n",
    "    block1       = Dropout(dropoutRate)(block1)\n",
    "  \n",
    "    block2       = Conv2D(50, (1, 5),\n",
    "                                 kernel_constraint = max_norm(2., axis=(0,1,2)))(block1)\n",
    "    block2       = BatchNormalization(epsilon=1e-05, momentum=0.9)(block2)\n",
    "    block2       = Activation('elu')(block2)\n",
    "    block2       = MaxPooling2D(pool_size=(1, 2), strides=(1, 2))(block2)\n",
    "    block2       = Dropout(dropoutRate)(block2)\n",
    "    \n",
    "    block3       = Conv2D(100, (1, 5),\n",
    "                                 kernel_constraint = max_norm(2., axis=(0,1,2)))(block2)\n",
    "    block3       = BatchNormalization(epsilon=1e-05, momentum=0.9)(block3)\n",
    "    block3       = Activation('elu')(block3)\n",
    "    block3       = MaxPooling2D(pool_size=(1, 2), strides=(1, 2))(block3)\n",
    "    block3       = Dropout(dropoutRate)(block3)\n",
    "    \n",
    "    block4       = Conv2D(200, (1, 5),\n",
    "                                 kernel_constraint = max_norm(2., axis=(0,1,2)))(block3)\n",
    "    block4       = BatchNormalization(epsilon=1e-05, momentum=0.9)(block4)\n",
    "    block4       = Activation('elu')(block4)\n",
    "    block4       = MaxPooling2D(pool_size=(1, 2), strides=(1, 2))(block4)\n",
    "    block4       = Dropout(dropoutRate)(block4)\n",
    "    \n",
    "    flatten      = Flatten()(block4)\n",
    "    \n",
    "    dense        = Dense(nb_classes, kernel_constraint = max_norm(0.5))(flatten)\n",
    "    softmax      = Activation('sigmoid')(dense)\n",
    "    \n",
    "    return Model(inputs=input_main, outputs=softmax)"
   ]
  },
  {
   "cell_type": "code",
   "execution_count": 68,
   "id": "a82dda3a",
   "metadata": {},
   "outputs": [
    {
     "name": "stdout",
     "output_type": "stream",
     "text": [
      "Model: \"model_2\"\n",
      "_________________________________________________________________\n",
      " Layer (type)                Output Shape              Param #   \n",
      "=================================================================\n",
      " input_3 (InputLayer)        [(None, 22, 1001, 1)]     0         \n",
      "                                                                 \n",
      " conv2d_10 (Conv2D)          (None, 22, 997, 25)       150       \n",
      "                                                                 \n",
      " conv2d_11 (Conv2D)          (None, 1, 997, 25)        13775     \n",
      "                                                                 \n",
      " batch_normalization_8 (Batc  (None, 1, 997, 25)       100       \n",
      " hNormalization)                                                 \n",
      "                                                                 \n",
      " activation_10 (Activation)  (None, 1, 997, 25)        0         \n",
      "                                                                 \n",
      " max_pooling2d_8 (MaxPooling  (None, 1, 498, 25)       0         \n",
      " 2D)                                                             \n",
      "                                                                 \n",
      " dropout_8 (Dropout)         (None, 1, 498, 25)        0         \n",
      "                                                                 \n",
      " conv2d_12 (Conv2D)          (None, 1, 494, 50)        6300      \n",
      "                                                                 \n",
      " batch_normalization_9 (Batc  (None, 1, 494, 50)       200       \n",
      " hNormalization)                                                 \n",
      "                                                                 \n",
      " activation_11 (Activation)  (None, 1, 494, 50)        0         \n",
      "                                                                 \n",
      " max_pooling2d_9 (MaxPooling  (None, 1, 247, 50)       0         \n",
      " 2D)                                                             \n",
      "                                                                 \n",
      " dropout_9 (Dropout)         (None, 1, 247, 50)        0         \n",
      "                                                                 \n",
      " conv2d_13 (Conv2D)          (None, 1, 243, 100)       25100     \n",
      "                                                                 \n",
      " batch_normalization_10 (Bat  (None, 1, 243, 100)      400       \n",
      " chNormalization)                                                \n",
      "                                                                 \n",
      " activation_12 (Activation)  (None, 1, 243, 100)       0         \n",
      "                                                                 \n",
      " max_pooling2d_10 (MaxPoolin  (None, 1, 121, 100)      0         \n",
      " g2D)                                                            \n",
      "                                                                 \n",
      " dropout_10 (Dropout)        (None, 1, 121, 100)       0         \n",
      "                                                                 \n",
      " conv2d_14 (Conv2D)          (None, 1, 117, 200)       100200    \n",
      "                                                                 \n",
      " batch_normalization_11 (Bat  (None, 1, 117, 200)      800       \n",
      " chNormalization)                                                \n",
      "                                                                 \n",
      " activation_13 (Activation)  (None, 1, 117, 200)       0         \n",
      "                                                                 \n",
      " max_pooling2d_11 (MaxPoolin  (None, 1, 58, 200)       0         \n",
      " g2D)                                                            \n",
      "                                                                 \n",
      " dropout_11 (Dropout)        (None, 1, 58, 200)        0         \n",
      "                                                                 \n",
      " flatten_2 (Flatten)         (None, 11600)             0         \n",
      "                                                                 \n",
      " dense_2 (Dense)             (None, 1)                 11601     \n",
      "                                                                 \n",
      " activation_14 (Activation)  (None, 1)                 0         \n",
      "                                                                 \n",
      "=================================================================\n",
      "Total params: 158,626\n",
      "Trainable params: 157,876\n",
      "Non-trainable params: 750\n",
      "_________________________________________________________________\n"
     ]
    }
   ],
   "source": [
    "deepconvnet = DeepConvNet(1, features.shape[1],features.shape[2],dropoutRate = 0.2)\n",
    "deepconvnet.summary()"
   ]
  },
  {
   "cell_type": "code",
   "execution_count": 69,
   "id": "4c942757",
   "metadata": {},
   "outputs": [],
   "source": [
    "deepconvnet.compile(optimizer=tf.keras.optimizers.Adam(learning_rate=0.005), loss = 'binary_crossentropy',metrics=['accuracy'])"
   ]
  },
  {
   "cell_type": "code",
   "execution_count": 70,
   "id": "57c61547",
   "metadata": {
    "scrolled": true
   },
   "outputs": [
    {
     "name": "stdout",
     "output_type": "stream",
     "text": [
      "Epoch 1/50\n",
      "31/31 [==============================] - 16s 422ms/step - loss: 1.0495 - accuracy: 0.6111 - val_loss: 0.9117 - val_accuracy: 0.6512\n",
      "Epoch 2/50\n",
      "31/31 [==============================] - 11s 361ms/step - loss: 0.7932 - accuracy: 0.6687 - val_loss: 0.9313 - val_accuracy: 0.6698\n",
      "Epoch 3/50\n",
      "31/31 [==============================] - 11s 364ms/step - loss: 0.6773 - accuracy: 0.7202 - val_loss: 0.9063 - val_accuracy: 0.6389\n",
      "Epoch 4/50\n",
      "31/31 [==============================] - 12s 402ms/step - loss: 0.5764 - accuracy: 0.7315 - val_loss: 0.5003 - val_accuracy: 0.7531\n",
      "Epoch 5/50\n",
      "31/31 [==============================] - 13s 419ms/step - loss: 0.5728 - accuracy: 0.7479 - val_loss: 0.5311 - val_accuracy: 0.7469\n",
      "Epoch 6/50\n",
      "31/31 [==============================] - 12s 388ms/step - loss: 0.4960 - accuracy: 0.7706 - val_loss: 0.5474 - val_accuracy: 0.7562\n",
      "Epoch 7/50\n",
      "31/31 [==============================] - 12s 396ms/step - loss: 0.4674 - accuracy: 0.7891 - val_loss: 0.4674 - val_accuracy: 0.7994\n",
      "Epoch 8/50\n",
      "31/31 [==============================] - 12s 401ms/step - loss: 0.4024 - accuracy: 0.8230 - val_loss: 0.3657 - val_accuracy: 0.8364\n",
      "Epoch 9/50\n",
      "31/31 [==============================] - 13s 429ms/step - loss: 0.3456 - accuracy: 0.8508 - val_loss: 0.6324 - val_accuracy: 0.7500\n",
      "Epoch 10/50\n",
      "31/31 [==============================] - 12s 391ms/step - loss: 0.3838 - accuracy: 0.8364 - val_loss: 0.4318 - val_accuracy: 0.8302\n",
      "Epoch 11/50\n",
      "31/31 [==============================] - 11s 350ms/step - loss: 0.3717 - accuracy: 0.8313 - val_loss: 0.4471 - val_accuracy: 0.8333\n",
      "Epoch 12/50\n",
      "31/31 [==============================] - 11s 346ms/step - loss: 0.2900 - accuracy: 0.8735 - val_loss: 0.5195 - val_accuracy: 0.7531\n",
      "Epoch 13/50\n",
      "31/31 [==============================] - 10s 333ms/step - loss: 0.3539 - accuracy: 0.8354 - val_loss: 0.4738 - val_accuracy: 0.8179\n",
      "Epoch 14/50\n",
      "31/31 [==============================] - 11s 358ms/step - loss: 0.2909 - accuracy: 0.8837 - val_loss: 0.3748 - val_accuracy: 0.8549\n",
      "Epoch 15/50\n",
      "31/31 [==============================] - 13s 412ms/step - loss: 0.2853 - accuracy: 0.8621 - val_loss: 0.4182 - val_accuracy: 0.8241\n",
      "Epoch 16/50\n",
      "31/31 [==============================] - 12s 397ms/step - loss: 0.3137 - accuracy: 0.8560 - val_loss: 0.3704 - val_accuracy: 0.8395\n",
      "Epoch 17/50\n",
      "31/31 [==============================] - 11s 350ms/step - loss: 0.2458 - accuracy: 0.9002 - val_loss: 0.3779 - val_accuracy: 0.8395\n",
      "Epoch 18/50\n",
      "31/31 [==============================] - 11s 343ms/step - loss: 0.2660 - accuracy: 0.8817 - val_loss: 0.4919 - val_accuracy: 0.8086\n",
      "Epoch 19/50\n",
      "31/31 [==============================] - 11s 367ms/step - loss: 0.2923 - accuracy: 0.8755 - val_loss: 0.4249 - val_accuracy: 0.8056\n",
      "Epoch 20/50\n",
      "31/31 [==============================] - 13s 436ms/step - loss: 0.2911 - accuracy: 0.8796 - val_loss: 0.3336 - val_accuracy: 0.8488\n",
      "Epoch 21/50\n",
      "31/31 [==============================] - 15s 487ms/step - loss: 0.2335 - accuracy: 0.9023 - val_loss: 0.4083 - val_accuracy: 0.7994\n",
      "Epoch 22/50\n",
      "31/31 [==============================] - 17s 562ms/step - loss: 0.2431 - accuracy: 0.9012 - val_loss: 0.3607 - val_accuracy: 0.8488\n",
      "Epoch 23/50\n",
      "31/31 [==============================] - 18s 591ms/step - loss: 0.2255 - accuracy: 0.9187 - val_loss: 0.4728 - val_accuracy: 0.8210\n",
      "Epoch 24/50\n",
      "31/31 [==============================] - 17s 541ms/step - loss: 0.2213 - accuracy: 0.9146 - val_loss: 0.4405 - val_accuracy: 0.8025\n",
      "Epoch 25/50\n",
      "31/31 [==============================] - 18s 573ms/step - loss: 0.2301 - accuracy: 0.9146 - val_loss: 0.4246 - val_accuracy: 0.8241\n",
      "Epoch 26/50\n",
      "31/31 [==============================] - 16s 530ms/step - loss: 0.2140 - accuracy: 0.9218 - val_loss: 0.3007 - val_accuracy: 0.8920\n",
      "Epoch 27/50\n",
      "31/31 [==============================] - 18s 592ms/step - loss: 0.2003 - accuracy: 0.9146 - val_loss: 0.3753 - val_accuracy: 0.8488\n",
      "Epoch 28/50\n",
      "31/31 [==============================] - 17s 537ms/step - loss: 0.1608 - accuracy: 0.9414 - val_loss: 0.3659 - val_accuracy: 0.8549\n",
      "Epoch 29/50\n",
      "31/31 [==============================] - 16s 498ms/step - loss: 0.1689 - accuracy: 0.9311 - val_loss: 0.3780 - val_accuracy: 0.8488\n",
      "Epoch 30/50\n",
      "31/31 [==============================] - 16s 508ms/step - loss: 0.1751 - accuracy: 0.9270 - val_loss: 0.4908 - val_accuracy: 0.8117\n",
      "Epoch 31/50\n",
      "31/31 [==============================] - 18s 572ms/step - loss: 0.1758 - accuracy: 0.9331 - val_loss: 0.4038 - val_accuracy: 0.8333\n",
      "Epoch 32/50\n",
      "31/31 [==============================] - 17s 562ms/step - loss: 0.1586 - accuracy: 0.9527 - val_loss: 0.4997 - val_accuracy: 0.8179\n",
      "Epoch 33/50\n",
      "31/31 [==============================] - 16s 508ms/step - loss: 0.1965 - accuracy: 0.9331 - val_loss: 0.6723 - val_accuracy: 0.7654\n",
      "Epoch 34/50\n",
      "31/31 [==============================] - 16s 522ms/step - loss: 0.2176 - accuracy: 0.9177 - val_loss: 0.4338 - val_accuracy: 0.8241\n",
      "Epoch 35/50\n",
      "31/31 [==============================] - 16s 513ms/step - loss: 0.1482 - accuracy: 0.9547 - val_loss: 0.3402 - val_accuracy: 0.8704\n",
      "Epoch 36/50\n",
      "31/31 [==============================] - 16s 508ms/step - loss: 0.1363 - accuracy: 0.9486 - val_loss: 0.3279 - val_accuracy: 0.8519\n",
      "Epoch 37/50\n",
      "31/31 [==============================] - 16s 519ms/step - loss: 0.1125 - accuracy: 0.9681 - val_loss: 0.3812 - val_accuracy: 0.8642\n",
      "Epoch 38/50\n",
      "31/31 [==============================] - 16s 505ms/step - loss: 0.1328 - accuracy: 0.9516 - val_loss: 0.3771 - val_accuracy: 0.8364\n",
      "Epoch 39/50\n",
      "31/31 [==============================] - 15s 502ms/step - loss: 0.1608 - accuracy: 0.9403 - val_loss: 0.6737 - val_accuracy: 0.7346\n",
      "Epoch 40/50\n",
      "31/31 [==============================] - 15s 495ms/step - loss: 0.1847 - accuracy: 0.9259 - val_loss: 0.4126 - val_accuracy: 0.8086\n",
      "Epoch 41/50\n",
      "31/31 [==============================] - 16s 507ms/step - loss: 0.1641 - accuracy: 0.9321 - val_loss: 0.3233 - val_accuracy: 0.8765\n",
      "Epoch 42/50\n",
      "31/31 [==============================] - 15s 490ms/step - loss: 0.1658 - accuracy: 0.9331 - val_loss: 0.5468 - val_accuracy: 0.8117\n",
      "Epoch 43/50\n",
      "31/31 [==============================] - 16s 508ms/step - loss: 0.1493 - accuracy: 0.9455 - val_loss: 0.3493 - val_accuracy: 0.8765\n",
      "Epoch 44/50\n",
      "31/31 [==============================] - 15s 491ms/step - loss: 0.1440 - accuracy: 0.9383 - val_loss: 0.4974 - val_accuracy: 0.8179\n",
      "Epoch 45/50\n",
      "31/31 [==============================] - 15s 493ms/step - loss: 0.1294 - accuracy: 0.9558 - val_loss: 0.5647 - val_accuracy: 0.7840\n",
      "Epoch 46/50\n",
      "31/31 [==============================] - 15s 476ms/step - loss: 0.1288 - accuracy: 0.9558 - val_loss: 0.3522 - val_accuracy: 0.8673\n",
      "Epoch 47/50\n",
      "31/31 [==============================] - 16s 516ms/step - loss: 0.1144 - accuracy: 0.9568 - val_loss: 0.3935 - val_accuracy: 0.8827\n",
      "Epoch 48/50\n",
      "31/31 [==============================] - 15s 494ms/step - loss: 0.1362 - accuracy: 0.9475 - val_loss: 0.4636 - val_accuracy: 0.8056\n",
      "Epoch 49/50\n",
      "31/31 [==============================] - 16s 513ms/step - loss: 0.1596 - accuracy: 0.9393 - val_loss: 0.3907 - val_accuracy: 0.8457\n",
      "Epoch 50/50\n",
      "31/31 [==============================] - 16s 511ms/step - loss: 0.1617 - accuracy: 0.9249 - val_loss: 0.3662 - val_accuracy: 0.8642\n"
     ]
    }
   ],
   "source": [
    "deepconvnet_history = deepconvnet.fit(train_features, train_labels,epochs=50,batch_size=32,validation_data=(val_features, val_labels))"
   ]
  },
  {
   "cell_type": "code",
   "execution_count": 71,
   "id": "da17054b",
   "metadata": {},
   "outputs": [
    {
     "data": {
      "text/plain": [
       "[<matplotlib.lines.Line2D at 0x2050370d490>]"
      ]
     },
     "execution_count": 71,
     "metadata": {},
     "output_type": "execute_result"
    },
    {
     "data": {
      "image/png": "[encoded data removed]",
      "text/plain": [
       "<Figure size 432x288 with 1 Axes>"
      ]
     },
     "metadata": {
      "needs_background": "light"
     },
     "output_type": "display_data"
    }
   ],
   "source": [
    "plt.plot(deepconvnet_history.history[\"accuracy\"])\n",
    "plt.plot(deepconvnet_history.history[\"val_accuracy\"])"
   ]
  },
  {
   "cell_type": "code",
   "execution_count": 72,
   "id": "9c63c012",
   "metadata": {},
   "outputs": [
    {
     "data": {
      "text/plain": [
       "[<matplotlib.lines.Line2D at 0x20503771970>]"
      ]
     },
     "execution_count": 72,
     "metadata": {},
     "output_type": "execute_result"
    },
    {
     "data": {
      "image/png": "[encoded data removed]",
      "text/plain": [
       "<Figure size 432x288 with 1 Axes>"
      ]
     },
     "metadata": {
      "needs_background": "light"
     },
     "output_type": "display_data"
    }
   ],
   "source": [
    "plt.plot(deepconvnet_history.history[\"loss\"])\n",
    "plt.plot(deepconvnet_history.history[\"val_loss\"])"
   ]
  },
  {
   "cell_type": "markdown",
   "id": "3423ac52",
   "metadata": {},
   "source": [
    "#Binary Class Class accuaracies"
   ]
  },
  {
   "cell_type": "code",
   "execution_count": 73,
   "id": "733e2f1f",
   "metadata": {},
   "outputs": [],
   "source": [
    "model = deepconvnet"
   ]
  },
  {
   "cell_type": "code",
   "execution_count": 74,
   "id": "36c1a270",
   "metadata": {},
   "outputs": [
    {
     "name": "stdout",
     "output_type": "stream",
     "text": [
      "              precision    recall  f1-score   support\n",
      "\n",
      "           0       0.95      1.00      0.97       475\n",
      "           1       1.00      0.95      0.97       497\n",
      "\n",
      "    accuracy                           0.97       972\n",
      "   macro avg       0.97      0.97      0.97       972\n",
      "weighted avg       0.97      0.97      0.97       972\n",
      "\n"
     ]
    },
    {
     "data": {
      "text/plain": [
       "<AxesSubplot:>"
      ]
     },
     "execution_count": 74,
     "metadata": {},
     "output_type": "execute_result"
    },
    {
     "data": {
      "image/png": "[encoded data removed]",
      "text/plain": [
       "<Figure size 432x288 with 2 Axes>"
      ]
     },
     "metadata": {
      "needs_background": "light"
     },
     "output_type": "display_data"
    }
   ],
   "source": [
    "# classification report on training set\n",
    "y_p = []\n",
    "pred = model.predict_on_batch(train_features)\n",
    "pred = pred.reshape(pred.shape[0])\n",
    "for l in pred:\n",
    "    if l>0.5:\n",
    "        y_p.append(1)\n",
    "    else:\n",
    "        y_p.append(0)\n",
    "y_t = train_labels.reshape(train_labels.shape[0])\n",
    "print(classification_report(y_t, y_p))\n",
    "cf_matrix = confusion_matrix(y_t, y_p)\n",
    "sns.heatmap(cf_matrix, annot=True)"
   ]
  },
  {
   "cell_type": "code",
   "execution_count": 75,
   "id": "40e7d32e",
   "metadata": {},
   "outputs": [
    {
     "name": "stdout",
     "output_type": "stream",
     "text": [
      "              precision    recall  f1-score   support\n",
      "\n",
      "           0       0.84      0.92      0.88       173\n",
      "           1       0.90      0.80      0.85       151\n",
      "\n",
      "    accuracy                           0.86       324\n",
      "   macro avg       0.87      0.86      0.86       324\n",
      "weighted avg       0.87      0.86      0.86       324\n",
      "\n"
     ]
    },
    {
     "data": {
      "text/plain": [
       "<AxesSubplot:>"
      ]
     },
     "execution_count": 75,
     "metadata": {},
     "output_type": "execute_result"
    },
    {
     "data": {
      "image/png": "[encoded data removed]",
      "text/plain": [
       "<Figure size 432x288 with 2 Axes>"
      ]
     },
     "metadata": {
      "needs_background": "light"
     },
     "output_type": "display_data"
    }
   ],
   "source": [
    "# classification report on validation set\n",
    "y_p = []\n",
    "pred = model.predict_on_batch(val_features)\n",
    "pred = pred.reshape(pred.shape[0])\n",
    "for l in pred:\n",
    "    if l>0.5:\n",
    "        y_p.append(1)\n",
    "    else:\n",
    "        y_p.append(0)\n",
    "y_t = val_labels.reshape(val_labels.shape[0])\n",
    "print(classification_report(y_t, y_p))\n",
    "cf_matrix = confusion_matrix(y_t, y_p)\n",
    "sns.heatmap(cf_matrix, annot=True)"
   ]
  },
  {
   "cell_type": "markdown",
   "id": "e1cdd35c",
   "metadata": {},
   "source": [
    "#Multiclass class accuracies "
   ]
  },
  {
   "cell_type": "code",
   "execution_count": 76,
   "id": "d0991d75",
   "metadata": {},
   "outputs": [
    {
     "name": "stdout",
     "output_type": "stream",
     "text": [
      "              precision    recall  f1-score   support\n",
      "\n",
      "           0       1.00      1.00      1.00       324\n",
      "\n",
      "    accuracy                           1.00       324\n",
      "   macro avg       1.00      1.00      1.00       324\n",
      "weighted avg       1.00      1.00      1.00       324\n",
      "\n"
     ]
    },
    {
     "data": {
      "text/plain": [
       "<AxesSubplot:>"
      ]
     },
     "execution_count": 76,
     "metadata": {},
     "output_type": "execute_result"
    },
    {
     "data": {
      "image/png": "[encoded data removed]",
      "text/plain": [
       "<Figure size 432x288 with 2 Axes>"
      ]
     },
     "metadata": {
      "needs_background": "light"
     },
     "output_type": "display_data"
    }
   ],
   "source": [
    "y_t = np.argmax(val_labels, axis=1) # Convert one-hot to index\n",
    "pred = model.predict_on_batch(val_features)\n",
    "y_p = np.argmax(pred,axis=1)\n",
    "print(classification_report(y_t, y_p))\n",
    "cf_matrix = confusion_matrix(y_t, y_p)\n",
    "sns.heatmap(cf_matrix, annot=True)"
   ]
  },
  {
   "cell_type": "code",
   "execution_count": 77,
   "id": "9b099b18",
   "metadata": {},
   "outputs": [
    {
     "name": "stdout",
     "output_type": "stream",
     "text": [
      "              precision    recall  f1-score   support\n",
      "\n",
      "           0       1.00      1.00      1.00       972\n",
      "\n",
      "    accuracy                           1.00       972\n",
      "   macro avg       1.00      1.00      1.00       972\n",
      "weighted avg       1.00      1.00      1.00       972\n",
      "\n"
     ]
    },
    {
     "data": {
      "text/plain": [
       "<AxesSubplot:>"
      ]
     },
     "execution_count": 77,
     "metadata": {},
     "output_type": "execute_result"
    },
    {
     "data": {
      "image/png": "[encoded data removed]",
      "text/plain": [
       "<Figure size 432x288 with 2 Axes>"
      ]
     },
     "metadata": {
      "needs_background": "light"
     },
     "output_type": "display_data"
    }
   ],
   "source": [
    "y_t = np.argmax(train_labels, axis=1) # Convert one-hot to index\n",
    "pred = model.predict_on_batch(train_features)\n",
    "y_p = np.argmax(pred,axis=1)\n",
    "print(classification_report(y_t, y_p))\n",
    "cf_matrix = confusion_matrix(y_t, y_p)\n",
    "sns.heatmap(cf_matrix, annot=True)"
   ]
  },
  {
   "cell_type": "code",
   "execution_count": 78,
   "id": "e12095a7",
   "metadata": {},
   "outputs": [],
   "source": [
    "y_p = model.predict_on_batch(val_features)"
   ]
  },
  {
   "cell_type": "code",
   "execution_count": 79,
   "id": "6458f36f",
   "metadata": {},
   "outputs": [
    {
     "data": {
      "text/plain": [
       "151"
      ]
     },
     "execution_count": 79,
     "metadata": {},
     "output_type": "execute_result"
    }
   ],
   "source": [
    "np.count_nonzero(val_labels)"
   ]
  },
  {
   "cell_type": "code",
   "execution_count": 80,
   "id": "7184f152",
   "metadata": {},
   "outputs": [
    {
     "data": {
      "text/plain": [
       "324"
      ]
     },
     "execution_count": 80,
     "metadata": {},
     "output_type": "execute_result"
    }
   ],
   "source": [
    "len(val_labels)"
   ]
  },
  {
   "cell_type": "code",
   "execution_count": null,
   "id": "b2f4e3b8",
   "metadata": {},
   "outputs": [],
   "source": []
  },
  {
   "cell_type": "code",
   "execution_count": null,
   "id": "79000eb8",
   "metadata": {},
   "outputs": [],
   "source": []
  },
  {
   "cell_type": "code",
   "execution_count": null,
   "id": "3d25f49a",
   "metadata": {},
   "outputs": [],
   "source": []
  }
 ],
 "metadata": {
  "kernelspec": {
   "display_name": "Python 3 (ipykernel)",
   "language": "python",
   "name": "python3"
  },
  "language_info": {
   "codemirror_mode": {
    "name": "ipython",
    "version": 3
   },
   "file_extension": ".py",
   "mimetype": "text/x-python",
   "name": "python",
   "nbconvert_exporter": "python",
   "pygments_lexer": "ipython3",
   "version": "3.9.1"
  }
 },
 "nbformat": 4,
 "nbformat_minor": 5
}

{
 "cells": [
  {
   "cell_type": "code",
   "execution_count": 3,
   "metadata": {
    "id": "Ls1_QPAmusUZ"
   },
   "outputs": [],
   "source": [
    "## analyse the data\n",
    "import mne\n",
    "import numpy as np"
   ]
  },
  {
   "cell_type": "code",
   "execution_count": 39,
   "metadata": {
    "colab": {
     "base_uri": "https://localhost:8080/",
     "height": 493
    },
    "id": "rNNd3ANCyKoF",
    "outputId": "d7fd2aeb-5d83-4cd3-edcc-20d52f330716"
   },
   "outputs": [
    {
     "name": "stdout",
     "output_type": "stream",
     "text": [
      "Extracting EDF parameters from C:\\Users\\uabhi\\NEW_MY_JUPYTER\\BCI\\BCI 4 dataset\\BCICIV_2a_gdf\\A04T.gdf...\n",
      "GDF file detected\n",
      "Setting channel info structure...\n",
      "Could not determine channel type of the following channels, they will be set as EEG:\n",
      "EEG-Fz, EEG, EEG, EEG, EEG, EEG, EEG, EEG-C3, EEG, EEG-Cz, EEG, EEG-C4, EEG, EEG, EEG, EEG, EEG, EEG, EEG, EEG-Pz, EEG, EEG\n",
      "Creating raw.info structure...\n"
     ]
    },
    {
     "name": "stderr",
     "output_type": "stream",
     "text": [
      "C:\\Users\\uabhi\\anaconda3\\envs\\tf\\lib\\site-packages\\mne\\io\\edf\\edf.py:1123: DeprecationWarning: The binary mode of fromstring is deprecated, as it behaves surprisingly on unicode inputs. Use frombuffer instead\n",
      "  etmode = np.fromstring(etmode, UINT8).tolist()[0]\n",
      "C:\\Users\\uabhi\\anaconda3\\envs\\tf\\lib\\contextlib.py:120: RuntimeWarning: Channel names are not unique, found duplicates for: {'EEG'}. Applying running numbers for duplicates.\n",
      "  next(self.gen)\n"
     ]
    },
    {
     "data": {
      "text/html": [
       "<table class=\"table table-hover table-striped table-sm table-responsive small\">\n",
       "    <tr>\n",
       "        <th>Measurement date</th>\n",
       "        \n",
       "        <td>November 08, 2004  12:00:00 GMT</td>\n",
       "        \n",
       "    </tr>\n",
       "    <tr>\n",
       "        <th>Experimenter</th>\n",
       "        \n",
       "        <td>Unknown</td>\n",
       "        \n",
       "    </tr>\n",
       "        <th>Participant</th>\n",
       "        \n",
       "        <td>Unknown</td>\n",
       "        \n",
       "    </tr>\n",
       "    <tr>\n",
       "        <th>Digitized points</th>\n",
       "        \n",
       "        <td>0 points</td>\n",
       "        \n",
       "    </tr>\n",
       "    <tr>\n",
       "        <th>Good channels</th>\n",
       "        <td>22 EEG</td>\n",
       "    </tr>\n",
       "    <tr>\n",
       "        <th>Bad channels</th>\n",
       "        <td>None</td>\n",
       "    </tr>\n",
       "    <tr>\n",
       "        <th>EOG channels</th>\n",
       "        <td>Not available</td>\n",
       "    </tr>\n",
       "    <tr>\n",
       "        <th>ECG channels</th>\n",
       "        <td>Not available</td>\n",
       "    \n",
       "    <tr>\n",
       "        <th>Sampling frequency</th>\n",
       "        <td>250.00 Hz</td>\n",
       "    </tr>\n",
       "    \n",
       "    \n",
       "    <tr>\n",
       "        <th>Highpass</th>\n",
       "        <td>0.50 Hz</td>\n",
       "    </tr>\n",
       "    \n",
       "    \n",
       "    <tr>\n",
       "        <th>Lowpass</th>\n",
       "        <td>100.00 Hz</td>\n",
       "    </tr>\n",
       "    \n",
       "    \n",
       "    \n",
       "    <tr>\n",
       "        <th>Filenames</th>\n",
       "        <td>A04T.gdf</td>\n",
       "    </tr>\n",
       "    \n",
       "    <tr>\n",
       "        <th>Duration</th>\n",
       "        <td>00:40:03 (HH:MM:SS)</td>\n",
       "    </tr>\n",
       "</table>"
      ],
      "text/plain": [
       "<RawGDF | A04T.gdf, 22 x 600915 (2403.7 s), ~26 kB, data not loaded>"
      ]
     },
     "execution_count": 39,
     "metadata": {},
     "output_type": "execute_result"
    }
   ],
   "source": [
    "raw=mne.io.read_raw_gdf('BCICIV_2a_gdf/A04T.gdf',\n",
    "                         eog=['EOG-left', 'EOG-central', 'EOG-right'])\n",
    "raw.drop_channels(['EOG-left', 'EOG-central', 'EOG-right'])"
   ]
  },
  {
   "cell_type": "code",
   "execution_count": 45,
   "metadata": {
    "colab": {
     "base_uri": "https://localhost:8080/"
    },
    "id": "xdN-C7dB2x8q",
    "outputId": "24cc3e07-2d1c-4b7a-b5fd-e4e9fe963df0",
    "scrolled": true
   },
   "outputs": [
    {
     "data": {
      "text/html": [
       "<div>\n",
       "<style scoped>\n",
       "    .dataframe tbody tr th:only-of-type {\n",
       "        vertical-align: middle;\n",
       "    }\n",
       "\n",
       "    .dataframe tbody tr th {\n",
       "        vertical-align: top;\n",
       "    }\n",
       "\n",
       "    .dataframe thead th {\n",
       "        text-align: right;\n",
       "    }\n",
       "</style>\n",
       "<table border=\"1\" class=\"dataframe\">\n",
       "  <thead>\n",
       "    <tr style=\"text-align: right;\">\n",
       "      <th></th>\n",
       "      <th>onset</th>\n",
       "      <th>duration</th>\n",
       "      <th>description</th>\n",
       "    </tr>\n",
       "  </thead>\n",
       "  <tbody>\n",
       "    <tr>\n",
       "      <th>0</th>\n",
       "      <td>2004-11-08 12:00:00.000</td>\n",
       "      <td>0.004</td>\n",
       "      <td>32766</td>\n",
       "    </tr>\n",
       "    <tr>\n",
       "      <th>1</th>\n",
       "      <td>2004-11-08 12:00:00.000</td>\n",
       "      <td>79.616</td>\n",
       "      <td>1072</td>\n",
       "    </tr>\n",
       "    <tr>\n",
       "      <th>2</th>\n",
       "      <td>2004-11-08 12:01:19.620</td>\n",
       "      <td>0.004</td>\n",
       "      <td>32766</td>\n",
       "    </tr>\n",
       "    <tr>\n",
       "      <th>3</th>\n",
       "      <td>2004-11-08 12:01:21.020</td>\n",
       "      <td>7.500</td>\n",
       "      <td>768</td>\n",
       "    </tr>\n",
       "    <tr>\n",
       "      <th>4</th>\n",
       "      <td>2004-11-08 12:01:23.020</td>\n",
       "      <td>1.252</td>\n",
       "      <td>772</td>\n",
       "    </tr>\n",
       "    <tr>\n",
       "      <th>...</th>\n",
       "      <td>...</td>\n",
       "      <td>...</td>\n",
       "      <td>...</td>\n",
       "    </tr>\n",
       "    <tr>\n",
       "      <th>605</th>\n",
       "      <td>2004-11-08 12:39:41.056</td>\n",
       "      <td>1.252</td>\n",
       "      <td>769</td>\n",
       "    </tr>\n",
       "    <tr>\n",
       "      <th>606</th>\n",
       "      <td>2004-11-08 12:39:47.512</td>\n",
       "      <td>7.500</td>\n",
       "      <td>768</td>\n",
       "    </tr>\n",
       "    <tr>\n",
       "      <th>607</th>\n",
       "      <td>2004-11-08 12:39:49.512</td>\n",
       "      <td>1.252</td>\n",
       "      <td>770</td>\n",
       "    </tr>\n",
       "    <tr>\n",
       "      <th>608</th>\n",
       "      <td>2004-11-08 12:39:55.748</td>\n",
       "      <td>7.500</td>\n",
       "      <td>768</td>\n",
       "    </tr>\n",
       "    <tr>\n",
       "      <th>609</th>\n",
       "      <td>2004-11-08 12:39:57.748</td>\n",
       "      <td>1.252</td>\n",
       "      <td>769</td>\n",
       "    </tr>\n",
       "  </tbody>\n",
       "</table>\n",
       "<p>610 rows × 3 columns</p>\n",
       "</div>"
      ],
      "text/plain": [
       "                      onset  duration description\n",
       "0   2004-11-08 12:00:00.000     0.004       32766\n",
       "1   2004-11-08 12:00:00.000    79.616        1072\n",
       "2   2004-11-08 12:01:19.620     0.004       32766\n",
       "3   2004-11-08 12:01:21.020     7.500         768\n",
       "4   2004-11-08 12:01:23.020     1.252         772\n",
       "..                      ...       ...         ...\n",
       "605 2004-11-08 12:39:41.056     1.252         769\n",
       "606 2004-11-08 12:39:47.512     7.500         768\n",
       "607 2004-11-08 12:39:49.512     1.252         770\n",
       "608 2004-11-08 12:39:55.748     7.500         768\n",
       "609 2004-11-08 12:39:57.748     1.252         769\n",
       "\n",
       "[610 rows x 3 columns]"
      ]
     },
     "execution_count": 45,
     "metadata": {},
     "output_type": "execute_result"
    }
   ],
   "source": [
    "raw.annotations.delete()"
   ]
  },
  {
   "cell_type": "code",
   "execution_count": 48,
   "metadata": {
    "colab": {
     "base_uri": "https://localhost:8080/"
    },
    "id": "RXsHptYzyk2a",
    "outputId": "98d94335-355e-4a21-b474-32187f669899"
   },
   "outputs": [
    {
     "name": "stdout",
     "output_type": "stream",
     "text": [
      "Used Annotations descriptions: ['1023', '1072', '32766', '768', '769', '770', '771', '772']\n"
     ]
    },
    {
     "data": {
      "text/plain": [
       "{'1023': 1,\n",
       " '1072': 2,\n",
       " '32766': 3,\n",
       " '768': 4,\n",
       " '769': 5,\n",
       " '770': 6,\n",
       " '771': 7,\n",
       " '772': 8}"
      ]
     },
     "execution_count": 48,
     "metadata": {},
     "output_type": "execute_result"
    }
   ],
   "source": [
    "events, event_id=mne.events_from_annotations(raw)\n",
    "event_id"
   ]
  },
  {
   "cell_type": "code",
   "execution_count": 62,
   "metadata": {},
   "outputs": [],
   "source": [
    "ann = event_id.keys()\n",
    "ann = list(map(int,ann))\n",
    "ids = event_id.values()\n",
    "ids = list(ids)"
   ]
  },
  {
   "cell_type": "code",
   "execution_count": 63,
   "metadata": {
    "colab": {
     "base_uri": "https://localhost:8080/"
    },
    "id": "C2SZEZsi-BEq",
    "outputId": "7179bdc2-566c-4fcd-99dd-f27860af1528",
    "scrolled": true
   },
   "outputs": [
    {
     "name": "stdout",
     "output_type": "stream",
     "text": [
      "[1023, 1072, 32766, 768, 769, 770, 771, 772]\n",
      "[1, 2, 3, 4, 5, 6, 7, 8]\n"
     ]
    }
   ],
   "source": [
    "print(ann)\n",
    "print(ids)"
   ]
  },
  {
   "cell_type": "code",
   "execution_count": 70,
   "metadata": {},
   "outputs": [],
   "source": [
    "unq = np.unique(events[:,-1])"
   ]
  },
  {
   "cell_type": "code",
   "execution_count": 72,
   "metadata": {
    "scrolled": true
   },
   "outputs": [
    {
     "data": {
      "text/plain": [
       "array([3, 2, 3, 4, 8, 4, 8, 4, 5, 4, 8, 4, 5, 4, 5, 4, 8, 4, 8, 4, 8, 4,\n",
       "       6, 4, 8, 4, 5, 4, 5, 4, 6, 4, 6, 4, 6, 4, 7, 4, 5, 4, 7, 4, 6, 4,\n",
       "       7, 4, 6, 4, 5, 4, 7, 4, 7, 4, 5, 4, 7, 4, 6, 4, 6, 4, 8, 4, 5, 4,\n",
       "       7, 4, 5, 4, 7, 4, 6, 4, 8, 4, 7, 4, 6, 4, 6, 4, 7, 4, 5, 4, 1, 5,\n",
       "       4, 8, 4, 7, 4, 8, 4, 6, 4, 7, 4, 8, 3, 4, 7, 4, 6, 4, 6, 4, 5, 4,\n",
       "       6, 4, 8, 4, 7, 4, 5, 4, 8, 4, 5, 4, 7, 4, 8, 4, 5, 4, 6, 4, 8, 4,\n",
       "       7, 4, 1, 5, 4, 5, 4, 7, 4, 8, 4, 6, 4, 5, 4, 7, 4, 5, 4, 6, 4, 6,\n",
       "       4, 5, 4, 1, 5, 4, 6, 4, 8, 4, 6, 4, 7, 4, 6, 4, 8, 4, 8, 4, 8, 4,\n",
       "       5, 4, 7, 4, 6, 4, 7, 4, 1, 6, 4, 8, 4, 7, 4, 8, 4, 8, 4, 7, 4, 5,\n",
       "       4, 7, 3, 4, 5, 4, 6, 4, 6, 4, 5, 4, 6, 4, 5, 4, 6, 4, 7, 4, 6, 4,\n",
       "       8, 4, 5, 4, 7, 4, 6, 4, 5, 4, 8, 4, 8, 4, 8, 4, 8, 4, 8, 4, 5, 4,\n",
       "       7, 4, 6, 4, 5, 4, 5, 4, 7, 4, 8, 4, 5, 4, 7, 4, 7, 4, 7, 4, 5, 4,\n",
       "       6, 4, 5, 4, 6, 4, 6, 4, 1, 5, 4, 6, 4, 7, 4, 6, 4, 7, 4, 1, 7, 4,\n",
       "       8, 4, 7, 4, 7, 4, 8, 4, 8, 4, 8, 4, 8, 3, 4, 1, 8, 4, 1, 7, 4, 1,\n",
       "       6, 4, 5, 4, 5, 4, 6, 4, 7, 4, 8, 4, 6, 4, 7, 4, 5, 4, 1, 5, 4, 1,\n",
       "       5, 4, 8, 4, 6, 4, 6, 4, 5, 4, 5, 4, 7, 4, 5, 4, 6, 4, 8, 4, 8, 4,\n",
       "       7, 4, 5, 4, 8, 4, 8, 4, 6, 4, 8, 4, 8, 4, 6, 4, 5, 4, 6, 4, 7, 4,\n",
       "       7, 4, 1, 7, 4, 8, 4, 7, 4, 5, 4, 8, 4, 6, 4, 7, 4, 6, 4, 7, 4, 8,\n",
       "       4, 6, 4, 7, 4, 5, 3, 4, 1, 5, 4, 5, 4, 8, 4, 6, 4, 5, 4, 1, 7, 4,\n",
       "       5, 4, 7, 4, 6, 4, 8, 4, 1, 5, 4, 7, 4, 7, 4, 5, 4, 1, 7, 4, 6, 4,\n",
       "       1, 8, 4, 8, 4, 1, 8, 4, 7, 4, 5, 4, 1, 8, 4, 6, 4, 8, 4, 1, 6, 4,\n",
       "       1, 5, 4, 7, 4, 6, 4, 5, 4, 7, 4, 7, 4, 5, 4, 7, 4, 8, 4, 8, 4, 6,\n",
       "       4, 5, 4, 6, 4, 8, 4, 6, 4, 8, 4, 7, 4, 6, 4, 6, 4, 6, 4, 7, 4, 8,\n",
       "       4, 5, 3, 4, 6, 4, 8, 4, 5, 4, 7, 4, 7, 4, 1, 8, 4, 5, 4, 5, 4, 7,\n",
       "       4, 1, 6, 4, 8, 4, 8, 4, 8, 4, 6, 4, 1, 5, 4, 7, 4, 6, 4, 8, 4, 5,\n",
       "       4, 8, 4, 7, 4, 6, 4, 1, 8, 4, 8, 4, 5, 4, 6, 4, 1, 6, 4, 7, 4, 8,\n",
       "       4, 6, 4, 5, 4, 5, 4, 8, 4, 6, 4, 5, 4, 7, 4, 6, 4, 6, 4, 7, 4, 5,\n",
       "       4, 8, 4, 7, 4, 7, 4, 7, 4, 7, 4, 5, 4, 6, 4, 5])"
      ]
     },
     "execution_count": 72,
     "metadata": {},
     "output_type": "execute_result"
    }
   ],
   "source": [
    "events[:,-1]"
   ]
  },
  {
   "cell_type": "code",
   "execution_count": 75,
   "metadata": {
    "scrolled": true
   },
   "outputs": [],
   "source": [
    "for u in unq:\n",
    "    events[:,-1] = np.where(events[:,-1]== u , ann[u-1],events[:,-1])"
   ]
  },
  {
   "cell_type": "code",
   "execution_count": 77,
   "metadata": {},
   "outputs": [
    {
     "data": {
      "text/plain": [
       "array([32766,  1072, 32766,   768,   772,   768,   772,   768,   769,\n",
       "         768,   772,   768,   769,   768,   769,   768,   772,   768,\n",
       "         772,   768,   772,   768,   770,   768,   772,   768,   769,\n",
       "         768,   769,   768,   770,   768,   770,   768,   770,   768,\n",
       "         771,   768,   769,   768,   771,   768,   770,   768,   771,\n",
       "         768,   770,   768,   769,   768,   771,   768,   771,   768,\n",
       "         769,   768,   771,   768,   770,   768,   770,   768,   772,\n",
       "         768,   769,   768,   771,   768,   769,   768,   771,   768,\n",
       "         770,   768,   772,   768,   771,   768,   770,   768,   770,\n",
       "         768,   771,   768,   769,   768,  1023,   769,   768,   772,\n",
       "         768,   771,   768,   772,   768,   770,   768,   771,   768,\n",
       "         772, 32766,   768,   771,   768,   770,   768,   770,   768,\n",
       "         769,   768,   770,   768,   772,   768,   771,   768,   769,\n",
       "         768,   772,   768,   769,   768,   771,   768,   772,   768,\n",
       "         769,   768,   770,   768,   772,   768,   771,   768,  1023,\n",
       "         769,   768,   769,   768,   771,   768,   772,   768,   770,\n",
       "         768,   769,   768,   771,   768,   769,   768,   770,   768,\n",
       "         770,   768,   769,   768,  1023,   769,   768,   770,   768,\n",
       "         772,   768,   770,   768,   771,   768,   770,   768,   772,\n",
       "         768,   772,   768,   772,   768,   769,   768,   771,   768,\n",
       "         770,   768,   771,   768,  1023,   770,   768,   772,   768,\n",
       "         771,   768,   772,   768,   772,   768,   771,   768,   769,\n",
       "         768,   771, 32766,   768,   769,   768,   770,   768,   770,\n",
       "         768,   769,   768,   770,   768,   769,   768,   770,   768,\n",
       "         771,   768,   770,   768,   772,   768,   769,   768,   771,\n",
       "         768,   770,   768,   769,   768,   772,   768,   772,   768,\n",
       "         772,   768,   772,   768,   772,   768,   769,   768,   771,\n",
       "         768,   770,   768,   769,   768,   769,   768,   771,   768,\n",
       "         772,   768,   769,   768,   771,   768,   771,   768,   771,\n",
       "         768,   769,   768,   770,   768,   769,   768,   770,   768,\n",
       "         770,   768,  1023,   769,   768,   770,   768,   771,   768,\n",
       "         770,   768,   771,   768,  1023,   771,   768,   772,   768,\n",
       "         771,   768,   771,   768,   772,   768,   772,   768,   772,\n",
       "         768,   772, 32766,   768,  1023,   772,   768,  1023,   771,\n",
       "         768,  1023,   770,   768,   769,   768,   769,   768,   770,\n",
       "         768,   771,   768,   772,   768,   770,   768,   771,   768,\n",
       "         769,   768,  1023,   769,   768,  1023,   769,   768,   772,\n",
       "         768,   770,   768,   770,   768,   769,   768,   769,   768,\n",
       "         771,   768,   769,   768,   770,   768,   772,   768,   772,\n",
       "         768,   771,   768,   769,   768,   772,   768,   772,   768,\n",
       "         770,   768,   772,   768,   772,   768,   770,   768,   769,\n",
       "         768,   770,   768,   771,   768,   771,   768,  1023,   771,\n",
       "         768,   772,   768,   771,   768,   769,   768,   772,   768,\n",
       "         770,   768,   771,   768,   770,   768,   771,   768,   772,\n",
       "         768,   770,   768,   771,   768,   769, 32766,   768,  1023,\n",
       "         769,   768,   769,   768,   772,   768,   770,   768,   769,\n",
       "         768,  1023,   771,   768,   769,   768,   771,   768,   770,\n",
       "         768,   772,   768,  1023,   769,   768,   771,   768,   771,\n",
       "         768,   769,   768,  1023,   771,   768,   770,   768,  1023,\n",
       "         772,   768,   772,   768,  1023,   772,   768,   771,   768,\n",
       "         769,   768,  1023,   772,   768,   770,   768,   772,   768,\n",
       "        1023,   770,   768,  1023,   769,   768,   771,   768,   770,\n",
       "         768,   769,   768,   771,   768,   771,   768,   769,   768,\n",
       "         771,   768,   772,   768,   772,   768,   770,   768,   769,\n",
       "         768,   770,   768,   772,   768,   770,   768,   772,   768,\n",
       "         771,   768,   770,   768,   770,   768,   770,   768,   771,\n",
       "         768,   772,   768,   769, 32766,   768,   770,   768,   772,\n",
       "         768,   769,   768,   771,   768,   771,   768,  1023,   772,\n",
       "         768,   769,   768,   769,   768,   771,   768,  1023,   770,\n",
       "         768,   772,   768,   772,   768,   772,   768,   770,   768,\n",
       "        1023,   769,   768,   771,   768,   770,   768,   772,   768,\n",
       "         769,   768,   772,   768,   771,   768,   770,   768,  1023,\n",
       "         772,   768,   772,   768,   769,   768,   770,   768,  1023,\n",
       "         770,   768,   771,   768,   772,   768,   770,   768,   769,\n",
       "         768,   769,   768,   772,   768,   770,   768,   769,   768,\n",
       "         771,   768,   770,   768,   770,   768,   771,   768,   769,\n",
       "         768,   772,   768,   771,   768,   771,   768,   771,   768,\n",
       "         771,   768,   769,   768,   770,   768,   769])"
      ]
     },
     "execution_count": 77,
     "metadata": {},
     "output_type": "execute_result"
    }
   ],
   "source": [
    "events[:,-1]"
   ]
  },
  {
   "cell_type": "markdown",
   "metadata": {
    "id": "R-4fdwhd3kDo"
   },
   "source": [
    "**From the paper**  \n",
    "'1023': 1 (Rejected trial),   \n",
    " '1072': 2 (Eye movements),  \n",
    " '276':  3 (eyes open)),  \n",
    " '277':  4 (eyes closed),   \n",
    " '32766':5 (Start of a new run),  \n",
    " '768':  6 (Start of a trial),  \n",
    " '769': 7 (class 1),  \n",
    " '770': 8 (class 2),  \n",
    " '771': 9 (class 3),  \n",
    " '772': 10 (class 4)\n",
    "\n"
   ]
  },
  {
   "cell_type": "code",
   "execution_count": 27,
   "metadata": {
    "id": "iJdndOUb8jif"
   },
   "outputs": [],
   "source": [
    "event_dict={\n",
    " 'reject':1,\n",
    " 'eye move':2,\n",
    " 'eye open':3,\n",
    " 'eye close':4,\n",
    " 'new run':5,\n",
    " 'new trial':6,\n",
    " 'class 1':7,\n",
    " 'class 2':8,\n",
    " 'class 3':9,\n",
    " 'class 4':10,\n",
    "\n",
    "}"
   ]
  },
  {
   "cell_type": "code",
   "execution_count": 28,
   "metadata": {
    "colab": {
     "base_uri": "https://localhost:8080/",
     "height": 279
    },
    "id": "-BVqtghx2kC3",
    "outputId": "7106ac1a-3448-488d-e8f3-7ca1d098ab96"
   },
   "outputs": [
    {
     "data": {
      "image/png": "[encoded data removed]",
      "text/plain": [
       "<Figure size 432x288 with 1 Axes>"
      ]
     },
     "metadata": {
      "needs_background": "light"
     },
     "output_type": "display_data"
    }
   ],
   "source": [
    "#https://mne.tools/stable/auto_tutorials/intro/10_overview.html#sphx-glr-auto-tutorials-intro-10-overview-py\n",
    "fig = mne.viz.plot_events(events[0], event_id=event_dict, sfreq=raw.info['sfreq'],\n",
    "                          first_samp=raw.first_samp)"
   ]
  },
  {
   "cell_type": "code",
   "execution_count": 29,
   "metadata": {
    "colab": {
     "base_uri": "https://localhost:8080/"
    },
    "id": "Bjsoem5pyOgG",
    "outputId": "3e2c2dba-7cbf-499e-81b3-2c00b1f91931"
   },
   "outputs": [
    {
     "name": "stdout",
     "output_type": "stream",
     "text": [
      "Not setting metadata\n",
      "72 matching events found\n",
      "Setting baseline interval to [-0.1, 0.0] sec\n",
      "Applying baseline correction (mode: mean)\n",
      "0 projection items activated\n",
      "Loading data for 72 events and 201 original time points ...\n",
      "0 bad epochs dropped\n"
     ]
    }
   ],
   "source": [
    "epochs = mne.Epochs(raw, events[0], event_id=[7],tmin= -0.1, tmax=0.7, preload=True)"
   ]
  },
  {
   "cell_type": "code",
   "execution_count": 18,
   "metadata": {
    "colab": {
     "base_uri": "https://localhost:8080/"
    },
    "id": "LkM0TbcPyZSl",
    "outputId": "8161f6c3-c993-4626-d8d9-cac1345d34d5"
   },
   "outputs": [
    {
     "data": {
      "text/plain": [
       "(288, 22, 201)"
      ]
     },
     "execution_count": 18,
     "metadata": {},
     "output_type": "execute_result"
    }
   ],
   "source": [
    "epochs.get_data().shape"
   ]
  },
  {
   "cell_type": "code",
   "execution_count": 19,
   "metadata": {
    "colab": {
     "base_uri": "https://localhost:8080/"
    },
    "id": "11DOnRGH1Dre",
    "outputId": "264e0fec-09e7-4aea-aede-7e4952237492"
   },
   "outputs": [
    {
     "data": {
      "text/plain": [
       "288"
      ]
     },
     "execution_count": 19,
     "metadata": {},
     "output_type": "execute_result"
    }
   ],
   "source": [
    "label=epochs.events[:,-1]\n",
    "len(label)"
   ]
  },
  {
   "cell_type": "code",
   "execution_count": 20,
   "metadata": {
    "id": "R1Mt5G37BQzD"
   },
   "outputs": [],
   "source": [
    "#epoch vs evoked"
   ]
  },
  {
   "cell_type": "code",
   "execution_count": 21,
   "metadata": {
    "id": "TIyO7cFxBXwz"
   },
   "outputs": [],
   "source": [
    "evoked_0 = epochs['7'].average()\n",
    "evoked_1 = epochs['8'].average()\n",
    "evoked_2 = epochs['9'].average()\n",
    "evoked_3 = epochs['10'].average()"
   ]
  },
  {
   "cell_type": "code",
   "execution_count": 22,
   "metadata": {
    "colab": {
     "base_uri": "https://localhost:8080/",
     "height": 477
    },
    "id": "8_rt24jrA9zp",
    "outputId": "acb3ad5b-5be1-4a67-a1c6-c0166657f950"
   },
   "outputs": [
    {
     "name": "stdout",
     "output_type": "stream",
     "text": [
      "combining channels using \"gfp\"\n",
      "combining channels using \"gfp\"\n",
      "combining channels using \"gfp\"\n",
      "combining channels using \"gfp\"\n"
     ]
    },
    {
     "data": {
      "image/png": "[encoded data removed]",
      "text/plain": [
       "<Figure size 576x432 with 1 Axes>"
      ]
     },
     "metadata": {
      "needs_background": "light"
     },
     "output_type": "display_data"
    },
    {
     "data": {
      "text/plain": [
       "[<Figure size 576x432 with 1 Axes>]"
      ]
     },
     "execution_count": 22,
     "metadata": {},
     "output_type": "execute_result"
    }
   ],
   "source": [
    "#left,right,foot,tongue\n",
    "dicts={'class0':evoked_0,'class1':evoked_1,'class2':evoked_2,'class3':evoked_3}\n",
    "mne.viz.plot_compare_evokeds(dicts)"
   ]
  },
  {
   "cell_type": "markdown",
   "metadata": {
    "id": "BdNn27SWEs5p"
   },
   "source": [
    "# let create a function"
   ]
  },
  {
   "cell_type": "code",
   "execution_count": 23,
   "metadata": {
    "id": "TitH-M4tCYx9"
   },
   "outputs": [],
   "source": [
    "def read_data(path):\n",
    "    raw=mne.io.read_raw_gdf(path,preload=True,\n",
    "                          eog=['EOG-left', 'EOG-central', 'EOG-right'])\n",
    "    raw.drop_channels(['EOG-left', 'EOG-central', 'EOG-right'])\n",
    "    raw.set_eeg_reference()\n",
    "    events=mne.events_from_annotations(raw)\n",
    "    epochs = mne.Epochs(raw, events[0], event_id=[7,8,9,10],on_missing ='warn')\n",
    "    labels=epochs.events[:,-1]\n",
    "    features=epochs.get_data()\n",
    "    return features,labels"
   ]
  },
  {
   "cell_type": "code",
   "execution_count": 26,
   "metadata": {
    "id": "xW0kIs4CEqlx"
   },
   "outputs": [],
   "source": [
    "%%capture\n",
    "features,labels,groups=[],[],[]\n",
    "for i in range(1,10):\n",
    "    feature,label=read_data(f'BCICIV_2a_gdf/A0{i}T.gdf')\n",
    "    features.append(feature)\n",
    "    labels.append(label)\n",
    "    groups.append([i]*len(label))\n"
   ]
  },
  {
   "cell_type": "code",
   "execution_count": 29,
   "metadata": {
    "colab": {
     "base_uri": "https://localhost:8080/"
    },
    "id": "lVYPtkG9JW0V",
    "outputId": "4b94fbd7-7331-49c9-b9e9-f027dc3390d8"
   },
   "outputs": [
    {
     "data": {
      "text/plain": [
       "((2448, 22, 176), (2448,), (2448,))"
      ]
     },
     "execution_count": 29,
     "metadata": {},
     "output_type": "execute_result"
    }
   ],
   "source": [
    "features=np.concatenate(features)\n",
    "labels=np.concatenate(labels)\n",
    "groups=np.concatenate(groups)\n",
    "\n",
    "features.shape,labels.shape,groups.shape"
   ]
  },
  {
   "cell_type": "code",
   "execution_count": 37,
   "metadata": {
    "colab": {
     "base_uri": "https://localhost:8080/"
    },
    "id": "EnL1jucZLcIe",
    "outputId": "2a6704e0-5af3-48d6-8f14-b37da51effed"
   },
   "outputs": [
    {
     "data": {
      "text/plain": [
       "0"
      ]
     },
     "execution_count": 37,
     "metadata": {},
     "output_type": "execute_result"
    }
   ],
   "source": [
    "np.isnan(features).sum()"
   ]
  },
  {
   "cell_type": "code",
   "execution_count": 33,
   "metadata": {
    "colab": {
     "base_uri": "https://localhost:8080/"
    },
    "id": "441MvNvQLP0w",
    "outputId": "873eff07-42cb-4e99-e3a6-46364c2c7fc5"
   },
   "outputs": [
    {
     "data": {
      "text/plain": [
       "(array([ 7,  8,  9, 10]), array([648, 648, 576, 576], dtype=int64))"
      ]
     },
     "execution_count": 33,
     "metadata": {},
     "output_type": "execute_result"
    }
   ],
   "source": [
    "unique, counts = np.unique(labels, return_counts=True)\n",
    "unique, counts"
   ]
  },
  {
   "cell_type": "code",
   "execution_count": 35,
   "metadata": {
    "colab": {
     "base_uri": "https://localhost:8080/"
    },
    "id": "6CXhty7XLz3P",
    "outputId": "89d63f5d-50ad-4c51-a592-e7c006f0c898"
   },
   "outputs": [
    {
     "data": {
      "text/plain": [
       "(array([1, 2, 3, 4, 5, 6, 7, 8, 9]),\n",
       " array([288, 288, 288, 144, 288, 288, 288, 288, 288], dtype=int64))"
      ]
     },
     "execution_count": 35,
     "metadata": {},
     "output_type": "execute_result"
    }
   ],
   "source": [
    "unique, counts = np.unique(groups, return_counts=True)\n",
    "unique, counts"
   ]
  },
  {
   "cell_type": "code",
   "execution_count": null,
   "metadata": {},
   "outputs": [],
   "source": []
  }
 ],
 "metadata": {
  "colab": {
   "collapsed_sections": [],
   "name": "BCI Competition 2008 – Graz data set A.ipynb",
   "provenance": []
  },
  "kernelspec": {
   "display_name": "Python 3 (ipykernel)",
   "language": "python",
   "name": "python3"
  },
  "language_info": {
   "codemirror_mode": {
    "name": "ipython",
    "version": 3
   },
   "file_extension": ".py",
   "mimetype": "text/x-python",
   "name": "python",
   "nbconvert_exporter": "python",
   "pygments_lexer": "ipython3",
   "version": "3.9.12"
  }
 },
 "nbformat": 4,
 "nbformat_minor": 1
}
